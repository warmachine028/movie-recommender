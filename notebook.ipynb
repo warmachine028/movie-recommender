{
 "cells": [
  {
   "cell_type": "markdown",
   "metadata": {},
   "source": [
    "Installing Necessary Pacakges for this notebook"
   ]
  },
  {
   "cell_type": "code",
   "execution_count": 61,
   "metadata": {},
   "outputs": [
    {
     "name": "stdout",
     "output_type": "stream",
     "text": [
      "Requirement already satisfied: numpy in c:\\users\\kryptonite\\appdata\\local\\programs\\python\\python310\\lib\\site-packages (1.22.0)\n",
      "Requirement already satisfied: pandas in c:\\users\\kryptonite\\appdata\\local\\programs\\python\\python310\\lib\\site-packages (1.4.1)\n",
      "Requirement already satisfied: sklearn in c:\\users\\kryptonite\\appdata\\local\\programs\\python\\python310\\lib\\site-packages (0.0)\n",
      "Requirement already satisfied: nltk in c:\\users\\kryptonite\\appdata\\local\\programs\\python\\python310\\lib\\site-packages (3.7)\n",
      "Requirement already satisfied: pytz>=2020.1 in c:\\users\\kryptonite\\appdata\\local\\programs\\python\\python310\\lib\\site-packages (from pandas) (2021.3)\n",
      "Requirement already satisfied: python-dateutil>=2.8.1 in c:\\users\\kryptonite\\appdata\\local\\programs\\python\\python310\\lib\\site-packages (from pandas) (2.8.2)\n",
      "Requirement already satisfied: scikit-learn in c:\\users\\kryptonite\\appdata\\local\\programs\\python\\python310\\lib\\site-packages (from sklearn) (1.0.2)\n",
      "Requirement already satisfied: tqdm in c:\\users\\kryptonite\\appdata\\local\\programs\\python\\python310\\lib\\site-packages (from nltk) (4.62.3)\n",
      "Requirement already satisfied: regex>=2021.8.3 in c:\\users\\kryptonite\\appdata\\local\\programs\\python\\python310\\lib\\site-packages (from nltk) (2022.7.25)\n",
      "Requirement already satisfied: click in c:\\users\\kryptonite\\appdata\\local\\programs\\python\\python310\\lib\\site-packages (from nltk) (8.0.3)\n",
      "Requirement already satisfied: joblib in c:\\users\\kryptonite\\appdata\\local\\programs\\python\\python310\\lib\\site-packages (from nltk) (1.1.0)\n",
      "Requirement already satisfied: six>=1.5 in c:\\users\\kryptonite\\appdata\\local\\programs\\python\\python310\\lib\\site-packages (from python-dateutil>=2.8.1->pandas) (1.16.0)\n",
      "Requirement already satisfied: colorama in c:\\users\\kryptonite\\appdata\\local\\programs\\python\\python310\\lib\\site-packages (from click->nltk) (0.4.4)\n",
      "Requirement already satisfied: scipy>=1.1.0 in c:\\users\\kryptonite\\appdata\\local\\programs\\python\\python310\\lib\\site-packages (from scikit-learn->sklearn) (1.8.0)\n",
      "Requirement already satisfied: threadpoolctl>=2.0.0 in c:\\users\\kryptonite\\appdata\\local\\programs\\python\\python310\\lib\\site-packages (from scikit-learn->sklearn) (3.1.0)\n"
     ]
    }
   ],
   "source": [
    "! pip install pandas sklearn nltk"
   ]
  },
  {
   "cell_type": "markdown",
   "metadata": {},
   "source": [
    "Loading the csv files"
   ]
  },
  {
   "cell_type": "code",
   "execution_count": 62,
   "metadata": {},
   "outputs": [],
   "source": [
    "import pandas as pd"
   ]
  },
  {
   "cell_type": "code",
   "execution_count": 63,
   "metadata": {},
   "outputs": [],
   "source": [
    "credits = pd.read_csv(\"data/tmdb_5000_credits.csv\")\n",
    "movies = pd.read_csv(\"data/tmdb_5000_movies.csv\")"
   ]
  },
  {
   "cell_type": "code",
   "execution_count": 64,
   "metadata": {},
   "outputs": [],
   "source": [
    "movies = movies.merge(credits, on=\"title\")"
   ]
  },
  {
   "cell_type": "markdown",
   "metadata": {},
   "source": [
    "### Data Preprocessing \n",
    "1. Feature Selection (Dimentionality Reduction)"
   ]
  },
  {
   "cell_type": "code",
   "execution_count": 65,
   "metadata": {},
   "outputs": [],
   "source": [
    "# genres\n",
    "# id\n",
    "# keywords\n",
    "# title\n",
    "# overview\n",
    "# cast\n",
    "# crew\n",
    "\n",
    "movies = movies[[\"id\", \"title\", \"overview\", \"genres\", \"keywords\", \"cast\", \"crew\"]]"
   ]
  },
  {
   "cell_type": "markdown",
   "metadata": {},
   "source": [
    "2. Feature cleaning"
   ]
  },
  {
   "cell_type": "code",
   "execution_count": 66,
   "metadata": {},
   "outputs": [],
   "source": [
    "movies.dropna(inplace=True)"
   ]
  },
  {
   "cell_type": "markdown",
   "metadata": {},
   "source": [
    "3. Checking for Duplicate values"
   ]
  },
  {
   "cell_type": "code",
   "execution_count": 67,
   "metadata": {},
   "outputs": [
    {
     "data": {
      "text/plain": [
       "0"
      ]
     },
     "execution_count": 67,
     "metadata": {},
     "output_type": "execute_result"
    }
   ],
   "source": [
    "movies.duplicated().sum()"
   ]
  },
  {
   "cell_type": "markdown",
   "metadata": {},
   "source": [
    "4. Applying function on features to convert them to lists"
   ]
  },
  {
   "cell_type": "code",
   "execution_count": 68,
   "metadata": {},
   "outputs": [],
   "source": [
    "import ast # Abstract Syntax Tree\n",
    "\n",
    "\n",
    "def convert_to_list(column: str) -> list:\n",
    "    return [item['name'] for item in ast.literal_eval(column)]"
   ]
  },
  {
   "cell_type": "code",
   "execution_count": 69,
   "metadata": {},
   "outputs": [],
   "source": [
    "movies['genres'] = movies['genres'].apply(convert_to_list)"
   ]
  },
  {
   "cell_type": "code",
   "execution_count": 70,
   "metadata": {},
   "outputs": [],
   "source": [
    "movies['keywords'] = movies['keywords'].apply(convert_to_list)"
   ]
  },
  {
   "cell_type": "code",
   "execution_count": 71,
   "metadata": {},
   "outputs": [],
   "source": [
    "movies['cast'] = movies['cast'].apply(lambda casts: convert_to_list(casts)[: 3])"
   ]
  },
  {
   "cell_type": "code",
   "execution_count": 72,
   "metadata": {},
   "outputs": [],
   "source": [
    "movies['crew'] = movies['crew'].apply(lambda crews: [crew['name'] for crew in ast.literal_eval(crews) if crew['job'] == 'Director'])"
   ]
  },
  {
   "cell_type": "code",
   "execution_count": 73,
   "metadata": {},
   "outputs": [],
   "source": [
    "movies['overview'] = movies['overview'].apply(lambda text: text.split())"
   ]
  },
  {
   "cell_type": "code",
   "execution_count": 74,
   "metadata": {},
   "outputs": [],
   "source": [
    "def concatenate_words(strings: list[str]) -> list[str]:\n",
    "    return [string.replace(\" \", \"\") for string in strings]\n"
   ]
  },
  {
   "cell_type": "code",
   "execution_count": 75,
   "metadata": {},
   "outputs": [],
   "source": [
    "movies['genres'] = movies['genres'].apply(concatenate_words)\n",
    "movies['keywords'] = movies['keywords'].apply(concatenate_words)\n",
    "movies['cast'] = movies['cast'].apply(concatenate_words)\n",
    "movies['crew'] = movies['crew'].apply(concatenate_words)"
   ]
  },
  {
   "cell_type": "markdown",
   "metadata": {},
   "source": [
    "5. New Feature Creation"
   ]
  },
  {
   "cell_type": "code",
   "execution_count": 76,
   "metadata": {},
   "outputs": [],
   "source": [
    "movies['tags'] = movies['overview'] + movies['genres'] + movies['keywords'] + movies['cast'] + movies['crew']"
   ]
  },
  {
   "cell_type": "code",
   "execution_count": 77,
   "metadata": {},
   "outputs": [],
   "source": [
    "new_df = pd.DataFrame(movies[['id', 'title', 'tags']])"
   ]
  },
  {
   "cell_type": "code",
   "execution_count": 78,
   "metadata": {},
   "outputs": [
    {
     "name": "stdout",
     "output_type": "stream",
     "text": [
      "          id                                     title  \\\n",
      "0      19995                                    Avatar   \n",
      "1        285  Pirates of the Caribbean: At World's End   \n",
      "2     206647                                   Spectre   \n",
      "3      49026                     The Dark Knight Rises   \n",
      "4      49529                               John Carter   \n",
      "...      ...                                       ...   \n",
      "4804    9367                               El Mariachi   \n",
      "4805   72766                                 Newlyweds   \n",
      "4806  231617                 Signed, Sealed, Delivered   \n",
      "4807  126186                          Shanghai Calling   \n",
      "4808   25975                         My Date with Drew   \n",
      "\n",
      "                                                   tags  \n",
      "0     [In, the, 22nd, century,, a, paraplegic, Marin...  \n",
      "1     [Captain, Barbossa,, long, believed, to, be, d...  \n",
      "2     [A, cryptic, message, from, Bond’s, past, send...  \n",
      "3     [Following, the, death, of, District, Attorney...  \n",
      "4     [John, Carter, is, a, war-weary,, former, mili...  \n",
      "...                                                 ...  \n",
      "4804  [El, Mariachi, just, wants, to, play, his, gui...  \n",
      "4805  [A, newlywed, couple's, honeymoon, is, upended...  \n",
      "4806  [\"Signed,, Sealed,, Delivered\", introduces, a,...  \n",
      "4807  [When, ambitious, New, York, attorney, Sam, is...  \n",
      "4808  [Ever, since, the, second, grade, when, he, fi...  \n",
      "\n",
      "[4806 rows x 3 columns]\n"
     ]
    }
   ],
   "source": [
    "print(new_df)"
   ]
  },
  {
   "cell_type": "code",
   "execution_count": 79,
   "metadata": {},
   "outputs": [],
   "source": [
    "new_df['tags'] = new_df['tags'].apply(lambda lst: ' '.join(map(str.lower, lst)))"
   ]
  },
  {
   "cell_type": "markdown",
   "metadata": {},
   "source": [
    "6. Apply stemming on features"
   ]
  },
  {
   "cell_type": "code",
   "execution_count": 80,
   "metadata": {},
   "outputs": [],
   "source": [
    "from nltk.stem.porter import PorterStemmer\n",
    "\n",
    "ps = PorterStemmer()"
   ]
  },
  {
   "cell_type": "code",
   "execution_count": 81,
   "metadata": {},
   "outputs": [],
   "source": [
    "# with stemming\n",
    "new_df['tags'] = new_df['tags'].apply(lambda tags: ' '.join(ps.stem(tag) for tag in tags.split()))"
   ]
  },
  {
   "cell_type": "code",
   "execution_count": 82,
   "metadata": {},
   "outputs": [
    {
     "data": {
      "text/html": [
       "<div>\n",
       "<style scoped>\n",
       "    .dataframe tbody tr th:only-of-type {\n",
       "        vertical-align: middle;\n",
       "    }\n",
       "\n",
       "    .dataframe tbody tr th {\n",
       "        vertical-align: top;\n",
       "    }\n",
       "\n",
       "    .dataframe thead th {\n",
       "        text-align: right;\n",
       "    }\n",
       "</style>\n",
       "<table border=\"1\" class=\"dataframe\">\n",
       "  <thead>\n",
       "    <tr style=\"text-align: right;\">\n",
       "      <th></th>\n",
       "      <th>id</th>\n",
       "      <th>title</th>\n",
       "      <th>tags</th>\n",
       "    </tr>\n",
       "  </thead>\n",
       "  <tbody>\n",
       "    <tr>\n",
       "      <th>0</th>\n",
       "      <td>19995</td>\n",
       "      <td>Avatar</td>\n",
       "      <td>in the 22nd century, a parapleg marin is dispa...</td>\n",
       "    </tr>\n",
       "    <tr>\n",
       "      <th>1</th>\n",
       "      <td>285</td>\n",
       "      <td>Pirates of the Caribbean: At World's End</td>\n",
       "      <td>captain barbossa, long believ to be dead, ha c...</td>\n",
       "    </tr>\n",
       "    <tr>\n",
       "      <th>2</th>\n",
       "      <td>206647</td>\n",
       "      <td>Spectre</td>\n",
       "      <td>a cryptic messag from bond’ past send him on a...</td>\n",
       "    </tr>\n",
       "    <tr>\n",
       "      <th>3</th>\n",
       "      <td>49026</td>\n",
       "      <td>The Dark Knight Rises</td>\n",
       "      <td>follow the death of district attorney harvey d...</td>\n",
       "    </tr>\n",
       "    <tr>\n",
       "      <th>4</th>\n",
       "      <td>49529</td>\n",
       "      <td>John Carter</td>\n",
       "      <td>john carter is a war-weary, former militari ca...</td>\n",
       "    </tr>\n",
       "  </tbody>\n",
       "</table>\n",
       "</div>"
      ],
      "text/plain": [
       "       id                                     title  \\\n",
       "0   19995                                    Avatar   \n",
       "1     285  Pirates of the Caribbean: At World's End   \n",
       "2  206647                                   Spectre   \n",
       "3   49026                     The Dark Knight Rises   \n",
       "4   49529                               John Carter   \n",
       "\n",
       "                                                tags  \n",
       "0  in the 22nd century, a parapleg marin is dispa...  \n",
       "1  captain barbossa, long believ to be dead, ha c...  \n",
       "2  a cryptic messag from bond’ past send him on a...  \n",
       "3  follow the death of district attorney harvey d...  \n",
       "4  john carter is a war-weary, former militari ca...  "
      ]
     },
     "execution_count": 82,
     "metadata": {},
     "output_type": "execute_result"
    }
   ],
   "source": [
    "new_df.head()"
   ]
  },
  {
   "cell_type": "code",
   "execution_count": 83,
   "metadata": {},
   "outputs": [],
   "source": [
    "from sklearn.feature_extraction.text import CountVectorizer\n",
    "\n",
    "\n",
    "cv = CountVectorizer(max_features=10000, stop_words='english')"
   ]
  },
  {
   "cell_type": "code",
   "execution_count": 84,
   "metadata": {},
   "outputs": [],
   "source": [
    "vectors = cv.fit_transform(new_df['tags']).toarray()"
   ]
  },
  {
   "cell_type": "code",
   "execution_count": 85,
   "metadata": {},
   "outputs": [
    {
     "data": {
      "text/plain": [
       "array(['00', '000', '007', '10', '100', '10th', '11', '12', '12th', '13',\n",
       "       '14', '15', '150', '15th', '16', '16th', '17', '17th', '18',\n",
       "       '1863', '1890', '18th', '18thcenturi', '19', '1910', '1920',\n",
       "       '1927', '1930', '1930s', '1937', '1940', '1940s', '1941', '1944',\n",
       "       '1945', '1950', '1950s', '1955', '1959', '1960', '1960s', '1962',\n",
       "       '1964', '1965', '1967', '1969', '1970', '1970s', '1971', '1972',\n",
       "       '1973', '1974', '1976', '1977', '1979', '1980', '1980s', '1984',\n",
       "       '1985', '1986', '1987', '1990', '1994', '1995', '1996', '1997',\n",
       "       '1999', '19th', '19thcenturi', '20', '200', '2000', '2001', '2002',\n",
       "       '2003', '2004', '2007', '2008', '2009', '2011', '2012', '20th',\n",
       "       '21st', '21stcenturi', '22nd', '23', '24', '25', '27', '28', '29',\n",
       "       '30', '300', '35', '3d', '40', '400', '47', '50', '500', '51',\n",
       "       '60', '60s', '70', '7th', '80', 'aaron', 'aaroneckhart',\n",
       "       'aaronseltz', 'aarontaylor', 'abandon', 'abbi', 'abbiecornish',\n",
       "       'abduct', 'abigailbreslin', 'abil', 'abl', 'aboard',\n",
       "       'abolitionist', 'aborigin', 'abort', 'abov', 'abraham', 'abram',\n",
       "       'abroad', 'abrupt', 'abruptli', 'absenc', 'absence', 'absent',\n",
       "       'absolut', 'abstract', 'absurd', 'abus', 'abuse', 'abusivehusband',\n",
       "       'academ', 'academi', 'academy', 'accept', 'acceptance', 'accepts',\n",
       "       'access', 'accid', 'accident', 'accidental', 'acclaim', 'acclim',\n",
       "       'accompani', 'accomplish', 'account', 'accountant', 'accus',\n",
       "       'accused', 'ace', 'achiev', 'acid', 'acquaint', 'acquir', 'acr',\n",
       "       'act', 'action', 'actionhero', 'actions', 'activ', 'activist',\n",
       "       'activities', 'actor', 'actress', 'actual', 'ad', 'ada', 'adam',\n",
       "       'adambeach', 'adambrodi', 'adamcarolla', 'adamdriv', 'adamgarcia',\n",
       "       'adamgoldberg', 'adammckay', 'adams', 'adamsandl', 'adamscott',\n",
       "       'adamshankman', 'adapt', 'add', 'addict', 'addiction', 'addit',\n",
       "       'addl', 'adjust', 'admir', 'admit', 'adolesc', 'adolf',\n",
       "       'adolfhitl', 'adopt', 'adoptivefath', 'ador', 'adrian',\n",
       "       'adrianlyn', 'adrienbrodi', 'adrift', 'adult', 'adultanim',\n",
       "       'adulteri', 'adulthood', 'adults', 'advanc', 'advantag',\n",
       "       'advantage', 'adventur', 'adventure', 'adventures', 'adversari',\n",
       "       'advertis', 'advic', 'advice', 'advis', 'affair', 'affect',\n",
       "       'affection', 'afflict', 'affluent', 'afford', 'afghanistan',\n",
       "       'afraid', 'africa', 'african', 'africanamerican', 'afro',\n",
       "       'aftercreditssting', 'afterlif', 'aftermath', 'afternoon', 'ag',\n",
       "       'age', 'agediffer', 'agenc', 'agency', 'agenda', 'agent', 'agents',\n",
       "       'aggress', 'aggressionbyanim', 'ago', 'agre', 'agrees', 'ahead',\n",
       "       'aid', 'aidan', 'aidanquinn', 'ail', 'aim', 'air', 'airborn',\n",
       "       'aircraft', 'airforc', 'airplan', 'airplanecrash', 'airport',\n",
       "       'aka', 'akshaykumar', 'al', 'alabama', 'alan', 'alanalda',\n",
       "       'alanarkin', 'alanrickman', 'alaska', 'alaskan', 'albert',\n",
       "       'albertbrook', 'albertfinney', 'alcatraz', 'alcohol',\n",
       "       'alcoholabus', 'aldou', 'alec', 'alecbaldwin', 'alecguin',\n",
       "       'alejandroamenábar', 'alejandrogonzáleziñárritu', 'alex',\n",
       "       'alexanderpayn', 'alexanderskarsgård', 'alexandradaddario',\n",
       "       'alexandreaja', 'alexapenavega', 'alexia', 'alexisbledel',\n",
       "       'alexkendrick', 'alexpettyf', 'alexproya', 'alfi', 'alfonsocuarón',\n",
       "       'alfredhitchcock', 'alfredmolina', 'algeria', 'ali', 'alibi',\n",
       "       'alic', 'alice', 'alicebraga', 'aliceev', 'aliciasilverston',\n",
       "       'aliciavikand', 'aliciawitt', 'alien', 'alienabduct',\n",
       "       'alienattack', 'aliencontact', 'alieninfect', 'alieninvas',\n",
       "       'alienlife', 'alienphenomenon', 'alienplanet', 'aliens', 'alik',\n",
       "       'alike', 'alilart', 'alisonlohman', 'aliv', 'alive', 'alleg',\n",
       "       'allegedli', 'allegra', 'allen', 'allenhugh', 'alli', 'allianc',\n",
       "       'allies', 'allow', 'allur', 'alon', 'alongsid', 'alp', 'alpacino',\n",
       "       'alpha', 'alreadi', 'alt', 'alter', 'altern', 'alternatedimens',\n",
       "       'alternatehistori', 'alternater', 'alvin', 'alway',\n",
       "       'alysonhannigan', 'alyssa', 'alzheim', 'alzheimer', 'amanda',\n",
       "       'amandabyn', 'amandapeet', 'amandaseyfri', 'amateur', 'amaz',\n",
       "       'amazon', 'ambassador', 'amber', 'amberheard', 'ambertamblyn',\n",
       "       'ambit', 'ambiti', 'ambul', 'ambush', 'amelia', 'america',\n",
       "       'americaferrera', 'american', 'americanabroad', 'americancivilwar',\n",
       "       'americandream', 'americanfootbal', 'americanfootballplay', 'ami',\n",
       "       'amid', 'amidst', 'amnesia', 'amor', 'amp', 'amsterdam', 'amus',\n",
       "       'amusementpark', 'amy', 'amyadam', 'amyheckerl', 'amypoehl',\n",
       "       'amysmart', 'ana', 'anakin', 'analyst', 'anarchiccomedi',\n",
       "       'anarchist', 'ancient', 'ancientchina', 'ancientegypt',\n",
       "       'ancientgreec', 'ancientrom', 'ancientworld', 'anderson', 'andi',\n",
       "       'andiemacdowel', 'andrew', 'andrewadamson', 'andrewdavi',\n",
       "       'andrewflem', 'andrewgarfield', 'andrewniccol', 'andrewstanton',\n",
       "       'android', 'andrzejbartkowiak', 'andy', 'andyfickman',\n",
       "       'andygarcía', 'andysamberg', 'andyserki', 'andytenn', 'angel',\n",
       "       'angela', 'angelabassett', 'angeles', 'angelinajoli', 'angels',\n",
       "       'anger', 'angle', 'angri', 'angst', 'ani', 'anim', 'animal',\n",
       "       'animalattack', 'animalhorror', 'animals', 'anjelicahuston', 'ann',\n",
       "       'anna', 'annabel', 'annabellasciorra', 'annafari', 'annafriel',\n",
       "       'annakendrick', 'annasophiarobb', 'anne', 'annebancroft',\n",
       "       'annefletch', 'annehathaway', 'annehech', 'annemoss', 'annetteben',\n",
       "       'anni', 'annie', 'anniversari', 'announc', 'annoy', 'annual',\n",
       "       'anonym', 'anoth', 'answer', 'answers', 'ant', 'antarct',\n",
       "       'antarctica', 'antholog', 'anthoni', 'anthonyanderson',\n",
       "       'anthonyhopkin', 'anthonymacki', 'anthonyquinn', 'anthonyrusso',\n",
       "       'anthropomorph', 'anti', 'antic', 'anticip', 'antics', 'antihero',\n",
       "       'antiqu', 'antisemit', 'antiterror', 'antoinefuqua', 'anton',\n",
       "       'antonio', 'antoniobandera', 'antonyelchin', 'anxieti', 'anyon',\n",
       "       'anyth', 'apart', 'apartheid', 'apartment', 'ape', 'apes',\n",
       "       'apocalyps', 'apocalypse', 'apocalypt', 'apollo', 'apostl',\n",
       "       'appalachia', 'appar'], dtype=object)"
      ]
     },
     "execution_count": 85,
     "metadata": {},
     "output_type": "execute_result"
    }
   ],
   "source": [
    "cv.get_feature_names_out()[:500]"
   ]
  },
  {
   "cell_type": "markdown",
   "metadata": {},
   "source": [
    "7. Calculating using cosine similarity instead of Euclidean Distance"
   ]
  },
  {
   "cell_type": "code",
   "execution_count": 86,
   "metadata": {},
   "outputs": [],
   "source": [
    "from sklearn.metrics.pairwise import cosine_similarity"
   ]
  },
  {
   "cell_type": "code",
   "execution_count": 87,
   "metadata": {},
   "outputs": [],
   "source": [
    "similarity = cosine_similarity(vectors)"
   ]
  },
  {
   "cell_type": "code",
   "execution_count": 88,
   "metadata": {},
   "outputs": [],
   "source": [
    "def recommend(movie):\n",
    "    movie_index = new_df[new_df['title'] == movie].index[0]\n",
    "    distances = similarity[movie_index]\n",
    "    movies = enumerate(distances)\n",
    "    recommended_movies = sorted(movies, reverse=True, key=lambda m: m[1])\n",
    "    top_5_recommendations = recommended_movies[1:6]\n",
    "\n",
    "    return [new_df.iloc[index].title for index, _ in top_5_recommendations]"
   ]
  },
  {
   "cell_type": "markdown",
   "metadata": {},
   "source": [
    "8. Testing on a data"
   ]
  },
  {
   "cell_type": "code",
   "execution_count": 89,
   "metadata": {},
   "outputs": [
    {
     "data": {
      "text/plain": [
       "['Aliens vs Predator: Requiem',\n",
       " 'Aliens',\n",
       " 'Falcon Rising',\n",
       " 'Titan A.E.',\n",
       " 'Independence Day']"
      ]
     },
     "execution_count": 89,
     "metadata": {},
     "output_type": "execute_result"
    }
   ],
   "source": [
    "recommend('Avatar')"
   ]
  },
  {
   "cell_type": "markdown",
   "metadata": {},
   "source": [
    "9. Exporting new Datasets\n"
   ]
  },
  {
   "cell_type": "code",
   "execution_count": 90,
   "metadata": {},
   "outputs": [],
   "source": [
    "import pickle\n",
    "\n",
    "\n",
    "pickle.dump(new_df, open('movies.pkl', 'wb'))\n",
    "pickle.dump(similarity, open('similarity.pkl', 'wb'))"
   ]
  }
 ],
 "metadata": {
  "kernelspec": {
   "display_name": "Python 3.10.4 64-bit",
   "language": "python",
   "name": "python3"
  },
  "language_info": {
   "codemirror_mode": {
    "name": "ipython",
    "version": 3
   },
   "file_extension": ".py",
   "mimetype": "text/x-python",
   "name": "python",
   "nbconvert_exporter": "python",
   "pygments_lexer": "ipython3",
   "version": "3.10.6"
  },
  "orig_nbformat": 4,
  "vscode": {
   "interpreter": {
    "hash": "7cc880fb414a6190fbce021e54b9550a41e00b0ed8e95a947d98634e734d910a"
   }
  }
 },
 "nbformat": 4,
 "nbformat_minor": 2
}
