{
 "cells": [
  {
   "cell_type": "markdown",
   "metadata": {},
   "source": [
    "Installing Necessary Pacakges for this notebook"
   ]
  },
  {
   "cell_type": "code",
   "execution_count": 1,
   "metadata": {},
   "outputs": [
    {
     "name": "stdout",
     "output_type": "stream",
     "text": [
      "Requirement already satisfied: pandas in d:\\programs\\python\\movies-recommender\\venv\\lib\\site-packages (1.5.3)\n",
      "Requirement already satisfied: scikit-learn in d:\\programs\\python\\movies-recommender\\venv\\lib\\site-packages (1.2.2)\n",
      "Requirement already satisfied: nltk in d:\\programs\\python\\movies-recommender\\venv\\lib\\site-packages (3.8.1)\n",
      "Requirement already satisfied: python-dateutil>=2.8.1 in d:\\programs\\python\\movies-recommender\\venv\\lib\\site-packages (from pandas) (2.8.2)\n",
      "Requirement already satisfied: pytz>=2020.1 in d:\\programs\\python\\movies-recommender\\venv\\lib\\site-packages (from pandas) (2022.7.1)\n",
      "Requirement already satisfied: numpy>=1.21.0 in d:\\programs\\python\\movies-recommender\\venv\\lib\\site-packages (from pandas) (1.24.2)\n",
      "Requirement already satisfied: scipy>=1.3.2 in d:\\programs\\python\\movies-recommender\\venv\\lib\\site-packages (from scikit-learn) (1.10.1)\n",
      "Requirement already satisfied: joblib>=1.1.1 in d:\\programs\\python\\movies-recommender\\venv\\lib\\site-packages (from scikit-learn) (1.2.0)\n",
      "Requirement already satisfied: threadpoolctl>=2.0.0 in d:\\programs\\python\\movies-recommender\\venv\\lib\\site-packages (from scikit-learn) (3.1.0)\n",
      "Requirement already satisfied: click in d:\\programs\\python\\movies-recommender\\venv\\lib\\site-packages (from nltk) (8.1.3)\n",
      "Requirement already satisfied: regex>=2021.8.3 in d:\\programs\\python\\movies-recommender\\venv\\lib\\site-packages (from nltk) (2022.10.31)\n",
      "Requirement already satisfied: tqdm in d:\\programs\\python\\movies-recommender\\venv\\lib\\site-packages (from nltk) (4.65.0)\n",
      "Requirement already satisfied: six>=1.5 in d:\\programs\\python\\movies-recommender\\venv\\lib\\site-packages (from python-dateutil>=2.8.1->pandas) (1.16.0)\n",
      "Requirement already satisfied: colorama in d:\\programs\\python\\movies-recommender\\venv\\lib\\site-packages (from click->nltk) (0.4.6)\n"
     ]
    }
   ],
   "source": [
    "! pip install pandas scikit-learn nltk"
   ]
  },
  {
   "cell_type": "markdown",
   "metadata": {},
   "source": [
    "Loading the csv files"
   ]
  },
  {
   "cell_type": "code",
   "execution_count": 2,
   "metadata": {},
   "outputs": [],
   "source": [
    "import pandas as pd"
   ]
  },
  {
   "cell_type": "code",
   "execution_count": 3,
   "metadata": {},
   "outputs": [],
   "source": [
    "credits = pd.read_csv(\"data/10000 Credits Data.csv\")\n",
    "movies = pd.read_csv(\"data/10000 Movies Data.csv\")"
   ]
  },
  {
   "cell_type": "code",
   "execution_count": 4,
   "metadata": {},
   "outputs": [],
   "source": [
    "movies = movies.merge(credits, on=\"Movie_id\")"
   ]
  },
  {
   "cell_type": "code",
   "execution_count": 5,
   "metadata": {},
   "outputs": [
    {
     "data": {
      "text/html": [
       "<div>\n",
       "<style scoped>\n",
       "    .dataframe tbody tr th:only-of-type {\n",
       "        vertical-align: middle;\n",
       "    }\n",
       "\n",
       "    .dataframe tbody tr th {\n",
       "        vertical-align: top;\n",
       "    }\n",
       "\n",
       "    .dataframe thead th {\n",
       "        text-align: right;\n",
       "    }\n",
       "</style>\n",
       "<table border=\"1\" class=\"dataframe\">\n",
       "  <thead>\n",
       "    <tr style=\"text-align: right;\">\n",
       "      <th></th>\n",
       "      <th>Unnamed: 0_x</th>\n",
       "      <th>Movie_id</th>\n",
       "      <th>title_x</th>\n",
       "      <th>Genres</th>\n",
       "      <th>release_date</th>\n",
       "      <th>Keywords</th>\n",
       "      <th>overview</th>\n",
       "      <th>poster_path</th>\n",
       "      <th>Budget</th>\n",
       "      <th>Revenue</th>\n",
       "      <th>popularity</th>\n",
       "      <th>vote_average</th>\n",
       "      <th>vote_count</th>\n",
       "      <th>Unnamed: 0_y</th>\n",
       "      <th>title_y</th>\n",
       "      <th>Cast</th>\n",
       "      <th>Crew</th>\n",
       "    </tr>\n",
       "  </thead>\n",
       "  <tbody>\n",
       "    <tr>\n",
       "      <th>0</th>\n",
       "      <td>0</td>\n",
       "      <td>238</td>\n",
       "      <td>The Godfather</td>\n",
       "      <td>[{'id': 18, 'name': 'Drama'}, {'id': 80, 'name...</td>\n",
       "      <td>1972-03-14</td>\n",
       "      <td>[{'id': 131, 'name': 'italy'}, {'id': 697, 'na...</td>\n",
       "      <td>Spanning the years 1945 to 1955, a chronicle o...</td>\n",
       "      <td>/3bhkrj58Vtu7enYsRolD1fZdja1.jpg</td>\n",
       "      <td>245066411</td>\n",
       "      <td>245066411</td>\n",
       "      <td>93.552</td>\n",
       "      <td>8.7</td>\n",
       "      <td>16814</td>\n",
       "      <td>0</td>\n",
       "      <td>The Godfather</td>\n",
       "      <td>[{'adult': False, 'gender': 2, 'id': 3084, 'kn...</td>\n",
       "      <td>[{'adult': False, 'gender': 2, 'id': 154, 'kno...</td>\n",
       "    </tr>\n",
       "    <tr>\n",
       "      <th>1</th>\n",
       "      <td>1</td>\n",
       "      <td>278</td>\n",
       "      <td>The Shawshank Redemption</td>\n",
       "      <td>[{'id': 18, 'name': 'Drama'}, {'id': 80, 'name...</td>\n",
       "      <td>1994-09-23</td>\n",
       "      <td>[{'id': 378, 'name': 'prison'}, {'id': 417, 'n...</td>\n",
       "      <td>Framed in the 1940s for the double murder of h...</td>\n",
       "      <td>/q6y0Go1tsGEsmtFryDOJo3dEmqu.jpg</td>\n",
       "      <td>28341469</td>\n",
       "      <td>28341469</td>\n",
       "      <td>78.664</td>\n",
       "      <td>8.7</td>\n",
       "      <td>22542</td>\n",
       "      <td>1</td>\n",
       "      <td>The Shawshank Redemption</td>\n",
       "      <td>[{'adult': False, 'gender': 2, 'id': 504, 'kno...</td>\n",
       "      <td>[{'adult': False, 'gender': 2, 'id': 153, 'kno...</td>\n",
       "    </tr>\n",
       "    <tr>\n",
       "      <th>2</th>\n",
       "      <td>2</td>\n",
       "      <td>240</td>\n",
       "      <td>The Godfather Part II</td>\n",
       "      <td>[{'id': 18, 'name': 'Drama'}, {'id': 80, 'name...</td>\n",
       "      <td>1974-12-20</td>\n",
       "      <td>[{'id': 131, 'name': 'italy'}, {'id': 700, 'na...</td>\n",
       "      <td>In the continuing saga of the Corleone crime f...</td>\n",
       "      <td>/hek3koDUyRQk7FIhPXsa6mT2Zc3.jpg</td>\n",
       "      <td>102600000</td>\n",
       "      <td>102600000</td>\n",
       "      <td>55.752</td>\n",
       "      <td>8.6</td>\n",
       "      <td>10187</td>\n",
       "      <td>2</td>\n",
       "      <td>The Godfather Part II</td>\n",
       "      <td>[{'adult': False, 'gender': 2, 'id': 1158, 'kn...</td>\n",
       "      <td>[{'adult': False, 'gender': 2, 'id': 154, 'kno...</td>\n",
       "    </tr>\n",
       "    <tr>\n",
       "      <th>3</th>\n",
       "      <td>3</td>\n",
       "      <td>19404</td>\n",
       "      <td>Dilwale Dulhania Le Jayenge</td>\n",
       "      <td>[{'id': 35, 'name': 'Comedy'}, {'id': 18, 'nam...</td>\n",
       "      <td>1995-10-19</td>\n",
       "      <td>[]</td>\n",
       "      <td>Raj is a rich, carefree, happy-go-lucky second...</td>\n",
       "      <td>/2CAL2433ZeIihfX1Hb2139CX0pW.jpg</td>\n",
       "      <td>100000000</td>\n",
       "      <td>100000000</td>\n",
       "      <td>22.150</td>\n",
       "      <td>8.6</td>\n",
       "      <td>3927</td>\n",
       "      <td>3</td>\n",
       "      <td>Dilwale Dulhania Le Jayenge</td>\n",
       "      <td>[{'adult': False, 'gender': 2, 'id': 35742, 'k...</td>\n",
       "      <td>[{'adult': False, 'gender': 1, 'id': 8311, 'kn...</td>\n",
       "    </tr>\n",
       "    <tr>\n",
       "      <th>4</th>\n",
       "      <td>4</td>\n",
       "      <td>424</td>\n",
       "      <td>Schindler's List</td>\n",
       "      <td>[{'id': 18, 'name': 'Drama'}, {'id': 36, 'name...</td>\n",
       "      <td>1993-12-15</td>\n",
       "      <td>[{'id': 818, 'name': 'based on novel or book'}...</td>\n",
       "      <td>The true story of how businessman Oskar Schind...</td>\n",
       "      <td>/sF1U4EUQS8YHUYjNl3pMGNIQyr0.jpg</td>\n",
       "      <td>321365567</td>\n",
       "      <td>321365567</td>\n",
       "      <td>53.542</td>\n",
       "      <td>8.6</td>\n",
       "      <td>13382</td>\n",
       "      <td>4</td>\n",
       "      <td>Schindler's List</td>\n",
       "      <td>[{'adult': False, 'gender': 2, 'id': 3896, 'kn...</td>\n",
       "      <td>[{'adult': False, 'gender': 2, 'id': 491, 'kno...</td>\n",
       "    </tr>\n",
       "    <tr>\n",
       "      <th>...</th>\n",
       "      <td>...</td>\n",
       "      <td>...</td>\n",
       "      <td>...</td>\n",
       "      <td>...</td>\n",
       "      <td>...</td>\n",
       "      <td>...</td>\n",
       "      <td>...</td>\n",
       "      <td>...</td>\n",
       "      <td>...</td>\n",
       "      <td>...</td>\n",
       "      <td>...</td>\n",
       "      <td>...</td>\n",
       "      <td>...</td>\n",
       "      <td>...</td>\n",
       "      <td>...</td>\n",
       "      <td>...</td>\n",
       "      <td>...</td>\n",
       "    </tr>\n",
       "    <tr>\n",
       "      <th>9975</th>\n",
       "      <td>9975</td>\n",
       "      <td>384737</td>\n",
       "      <td>Precious Cargo</td>\n",
       "      <td>[{'id': 28, 'name': 'Action'}, {'id': 80, 'nam...</td>\n",
       "      <td>2016-07-15</td>\n",
       "      <td>[{'id': 9730, 'name': 'crime boss'}, {'id': 10...</td>\n",
       "      <td>After a botched heist, Eddie  a murderous crim...</td>\n",
       "      <td>/dOQv2PDBu9bBCZRLeRp6QQYJDr3.jpg</td>\n",
       "      <td>100659</td>\n",
       "      <td>100659</td>\n",
       "      <td>14.663</td>\n",
       "      <td>5.2</td>\n",
       "      <td>243</td>\n",
       "      <td>9975</td>\n",
       "      <td>Precious Cargo</td>\n",
       "      <td>[{'adult': False, 'gender': 2, 'id': 62, 'know...</td>\n",
       "      <td>[{'adult': False, 'gender': 2, 'id': 4951, 'kn...</td>\n",
       "    </tr>\n",
       "    <tr>\n",
       "      <th>9976</th>\n",
       "      <td>9976</td>\n",
       "      <td>282813</td>\n",
       "      <td>The Pyramid</td>\n",
       "      <td>[{'id': 27, 'name': 'Horror'}]</td>\n",
       "      <td>2014-12-04</td>\n",
       "      <td>[{'id': 1299, 'name': 'monster'}, {'id': 3762,...</td>\n",
       "      <td>An archaeological team attempt to unlock the s...</td>\n",
       "      <td>/joPb4PUPP7xClD6XPiQ7laBEtZf.jpg</td>\n",
       "      <td>16861137</td>\n",
       "      <td>16861137</td>\n",
       "      <td>17.892</td>\n",
       "      <td>5.2</td>\n",
       "      <td>861</td>\n",
       "      <td>9976</td>\n",
       "      <td>The Pyramid</td>\n",
       "      <td>[{'adult': False, 'gender': 1, 'id': 589098, '...</td>\n",
       "      <td>[{'adult': False, 'gender': 2, 'id': 5673, 'kn...</td>\n",
       "    </tr>\n",
       "    <tr>\n",
       "      <th>9977</th>\n",
       "      <td>9977</td>\n",
       "      <td>134375</td>\n",
       "      <td>Home Alone: The Holiday Heist</td>\n",
       "      <td>[{'id': 35, 'name': 'Comedy'}, {'id': 10751, '...</td>\n",
       "      <td>2012-11-25</td>\n",
       "      <td>[{'id': 207317, 'name': 'christmas'}]</td>\n",
       "      <td>8-year-old Finn is terrified to learn his fami...</td>\n",
       "      <td>/6JPrRC0JPM06y17pUXD6w1xMvKi.jpg</td>\n",
       "      <td>0</td>\n",
       "      <td>0</td>\n",
       "      <td>23.978</td>\n",
       "      <td>5.2</td>\n",
       "      <td>335</td>\n",
       "      <td>9977</td>\n",
       "      <td>Home Alone: The Holiday Heist</td>\n",
       "      <td>[{'adult': False, 'gender': 1, 'id': 8338, 'kn...</td>\n",
       "      <td>[{'adult': False, 'gender': 2, 'id': 11505, 'k...</td>\n",
       "    </tr>\n",
       "    <tr>\n",
       "      <th>9978</th>\n",
       "      <td>9978</td>\n",
       "      <td>10477</td>\n",
       "      <td>Driven</td>\n",
       "      <td>[{'id': 28, 'name': 'Action'}]</td>\n",
       "      <td>2001-04-27</td>\n",
       "      <td>[{'id': 271, 'name': 'competition'}, {'id': 36...</td>\n",
       "      <td>Talented rookie race-car driver Jimmy Bly has ...</td>\n",
       "      <td>/2aN2BBAbRyfEpfxZAQY82T8zWRq.jpg</td>\n",
       "      <td>54744738</td>\n",
       "      <td>54744738</td>\n",
       "      <td>13.200</td>\n",
       "      <td>5.2</td>\n",
       "      <td>594</td>\n",
       "      <td>9978</td>\n",
       "      <td>Driven</td>\n",
       "      <td>[{'adult': False, 'gender': 2, 'id': 16483, 'k...</td>\n",
       "      <td>[{'adult': False, 'gender': 1, 'id': 2324, 'kn...</td>\n",
       "    </tr>\n",
       "    <tr>\n",
       "      <th>9979</th>\n",
       "      <td>9979</td>\n",
       "      <td>243688</td>\n",
       "      <td>Poltergeist</td>\n",
       "      <td>[{'id': 27, 'name': 'Horror'}]</td>\n",
       "      <td>2015-05-20</td>\n",
       "      <td>[{'id': 3350, 'name': 'poltergeist'}, {'id': 3...</td>\n",
       "      <td>A family's suburban home is invaded by angry s...</td>\n",
       "      <td>/A1ymtbzatZp94Z49ZOBb8JGXOBB.jpg</td>\n",
       "      <td>95437994</td>\n",
       "      <td>95437994</td>\n",
       "      <td>42.458</td>\n",
       "      <td>5.2</td>\n",
       "      <td>2037</td>\n",
       "      <td>9979</td>\n",
       "      <td>Poltergeist</td>\n",
       "      <td>[{'adult': False, 'gender': 2, 'id': 6807, 'kn...</td>\n",
       "      <td>[{'adult': False, 'gender': 0, 'id': 8375, 'kn...</td>\n",
       "    </tr>\n",
       "  </tbody>\n",
       "</table>\n",
       "<p>9980 rows × 17 columns</p>\n",
       "</div>"
      ],
      "text/plain": [
       "      Unnamed: 0_x  Movie_id                        title_x  \\\n",
       "0                0       238                  The Godfather   \n",
       "1                1       278       The Shawshank Redemption   \n",
       "2                2       240          The Godfather Part II   \n",
       "3                3     19404    Dilwale Dulhania Le Jayenge   \n",
       "4                4       424               Schindler's List   \n",
       "...            ...       ...                            ...   \n",
       "9975          9975    384737                 Precious Cargo   \n",
       "9976          9976    282813                    The Pyramid   \n",
       "9977          9977    134375  Home Alone: The Holiday Heist   \n",
       "9978          9978     10477                         Driven   \n",
       "9979          9979    243688                    Poltergeist   \n",
       "\n",
       "                                                 Genres release_date  \\\n",
       "0     [{'id': 18, 'name': 'Drama'}, {'id': 80, 'name...   1972-03-14   \n",
       "1     [{'id': 18, 'name': 'Drama'}, {'id': 80, 'name...   1994-09-23   \n",
       "2     [{'id': 18, 'name': 'Drama'}, {'id': 80, 'name...   1974-12-20   \n",
       "3     [{'id': 35, 'name': 'Comedy'}, {'id': 18, 'nam...   1995-10-19   \n",
       "4     [{'id': 18, 'name': 'Drama'}, {'id': 36, 'name...   1993-12-15   \n",
       "...                                                 ...          ...   \n",
       "9975  [{'id': 28, 'name': 'Action'}, {'id': 80, 'nam...   2016-07-15   \n",
       "9976                     [{'id': 27, 'name': 'Horror'}]   2014-12-04   \n",
       "9977  [{'id': 35, 'name': 'Comedy'}, {'id': 10751, '...   2012-11-25   \n",
       "9978                     [{'id': 28, 'name': 'Action'}]   2001-04-27   \n",
       "9979                     [{'id': 27, 'name': 'Horror'}]   2015-05-20   \n",
       "\n",
       "                                               Keywords  \\\n",
       "0     [{'id': 131, 'name': 'italy'}, {'id': 697, 'na...   \n",
       "1     [{'id': 378, 'name': 'prison'}, {'id': 417, 'n...   \n",
       "2     [{'id': 131, 'name': 'italy'}, {'id': 700, 'na...   \n",
       "3                                                    []   \n",
       "4     [{'id': 818, 'name': 'based on novel or book'}...   \n",
       "...                                                 ...   \n",
       "9975  [{'id': 9730, 'name': 'crime boss'}, {'id': 10...   \n",
       "9976  [{'id': 1299, 'name': 'monster'}, {'id': 3762,...   \n",
       "9977              [{'id': 207317, 'name': 'christmas'}]   \n",
       "9978  [{'id': 271, 'name': 'competition'}, {'id': 36...   \n",
       "9979  [{'id': 3350, 'name': 'poltergeist'}, {'id': 3...   \n",
       "\n",
       "                                               overview  \\\n",
       "0     Spanning the years 1945 to 1955, a chronicle o...   \n",
       "1     Framed in the 1940s for the double murder of h...   \n",
       "2     In the continuing saga of the Corleone crime f...   \n",
       "3     Raj is a rich, carefree, happy-go-lucky second...   \n",
       "4     The true story of how businessman Oskar Schind...   \n",
       "...                                                 ...   \n",
       "9975  After a botched heist, Eddie  a murderous crim...   \n",
       "9976  An archaeological team attempt to unlock the s...   \n",
       "9977  8-year-old Finn is terrified to learn his fami...   \n",
       "9978  Talented rookie race-car driver Jimmy Bly has ...   \n",
       "9979  A family's suburban home is invaded by angry s...   \n",
       "\n",
       "                           poster_path     Budget    Revenue  popularity  \\\n",
       "0     /3bhkrj58Vtu7enYsRolD1fZdja1.jpg  245066411  245066411      93.552   \n",
       "1     /q6y0Go1tsGEsmtFryDOJo3dEmqu.jpg   28341469   28341469      78.664   \n",
       "2     /hek3koDUyRQk7FIhPXsa6mT2Zc3.jpg  102600000  102600000      55.752   \n",
       "3     /2CAL2433ZeIihfX1Hb2139CX0pW.jpg  100000000  100000000      22.150   \n",
       "4     /sF1U4EUQS8YHUYjNl3pMGNIQyr0.jpg  321365567  321365567      53.542   \n",
       "...                                ...        ...        ...         ...   \n",
       "9975  /dOQv2PDBu9bBCZRLeRp6QQYJDr3.jpg     100659     100659      14.663   \n",
       "9976  /joPb4PUPP7xClD6XPiQ7laBEtZf.jpg   16861137   16861137      17.892   \n",
       "9977  /6JPrRC0JPM06y17pUXD6w1xMvKi.jpg          0          0      23.978   \n",
       "9978  /2aN2BBAbRyfEpfxZAQY82T8zWRq.jpg   54744738   54744738      13.200   \n",
       "9979  /A1ymtbzatZp94Z49ZOBb8JGXOBB.jpg   95437994   95437994      42.458   \n",
       "\n",
       "      vote_average  vote_count  Unnamed: 0_y                        title_y  \\\n",
       "0              8.7       16814             0                  The Godfather   \n",
       "1              8.7       22542             1       The Shawshank Redemption   \n",
       "2              8.6       10187             2          The Godfather Part II   \n",
       "3              8.6        3927             3    Dilwale Dulhania Le Jayenge   \n",
       "4              8.6       13382             4               Schindler's List   \n",
       "...            ...         ...           ...                            ...   \n",
       "9975           5.2         243          9975                 Precious Cargo   \n",
       "9976           5.2         861          9976                    The Pyramid   \n",
       "9977           5.2         335          9977  Home Alone: The Holiday Heist   \n",
       "9978           5.2         594          9978                         Driven   \n",
       "9979           5.2        2037          9979                    Poltergeist   \n",
       "\n",
       "                                                   Cast  \\\n",
       "0     [{'adult': False, 'gender': 2, 'id': 3084, 'kn...   \n",
       "1     [{'adult': False, 'gender': 2, 'id': 504, 'kno...   \n",
       "2     [{'adult': False, 'gender': 2, 'id': 1158, 'kn...   \n",
       "3     [{'adult': False, 'gender': 2, 'id': 35742, 'k...   \n",
       "4     [{'adult': False, 'gender': 2, 'id': 3896, 'kn...   \n",
       "...                                                 ...   \n",
       "9975  [{'adult': False, 'gender': 2, 'id': 62, 'know...   \n",
       "9976  [{'adult': False, 'gender': 1, 'id': 589098, '...   \n",
       "9977  [{'adult': False, 'gender': 1, 'id': 8338, 'kn...   \n",
       "9978  [{'adult': False, 'gender': 2, 'id': 16483, 'k...   \n",
       "9979  [{'adult': False, 'gender': 2, 'id': 6807, 'kn...   \n",
       "\n",
       "                                                   Crew  \n",
       "0     [{'adult': False, 'gender': 2, 'id': 154, 'kno...  \n",
       "1     [{'adult': False, 'gender': 2, 'id': 153, 'kno...  \n",
       "2     [{'adult': False, 'gender': 2, 'id': 154, 'kno...  \n",
       "3     [{'adult': False, 'gender': 1, 'id': 8311, 'kn...  \n",
       "4     [{'adult': False, 'gender': 2, 'id': 491, 'kno...  \n",
       "...                                                 ...  \n",
       "9975  [{'adult': False, 'gender': 2, 'id': 4951, 'kn...  \n",
       "9976  [{'adult': False, 'gender': 2, 'id': 5673, 'kn...  \n",
       "9977  [{'adult': False, 'gender': 2, 'id': 11505, 'k...  \n",
       "9978  [{'adult': False, 'gender': 1, 'id': 2324, 'kn...  \n",
       "9979  [{'adult': False, 'gender': 0, 'id': 8375, 'kn...  \n",
       "\n",
       "[9980 rows x 17 columns]"
      ]
     },
     "execution_count": 5,
     "metadata": {},
     "output_type": "execute_result"
    }
   ],
   "source": [
    "movies"
   ]
  },
  {
   "cell_type": "code",
   "execution_count": 6,
   "metadata": {
    "scrolled": true
   },
   "outputs": [
    {
     "data": {
      "text/html": [
       "<div>\n",
       "<style scoped>\n",
       "    .dataframe tbody tr th:only-of-type {\n",
       "        vertical-align: middle;\n",
       "    }\n",
       "\n",
       "    .dataframe tbody tr th {\n",
       "        vertical-align: top;\n",
       "    }\n",
       "\n",
       "    .dataframe thead th {\n",
       "        text-align: right;\n",
       "    }\n",
       "</style>\n",
       "<table border=\"1\" class=\"dataframe\">\n",
       "  <thead>\n",
       "    <tr style=\"text-align: right;\">\n",
       "      <th></th>\n",
       "      <th>Unnamed: 0</th>\n",
       "      <th>Movie_id</th>\n",
       "      <th>title</th>\n",
       "      <th>Cast</th>\n",
       "      <th>Crew</th>\n",
       "    </tr>\n",
       "  </thead>\n",
       "  <tbody>\n",
       "    <tr>\n",
       "      <th>0</th>\n",
       "      <td>0</td>\n",
       "      <td>238</td>\n",
       "      <td>The Godfather</td>\n",
       "      <td>[{'adult': False, 'gender': 2, 'id': 3084, 'kn...</td>\n",
       "      <td>[{'adult': False, 'gender': 2, 'id': 154, 'kno...</td>\n",
       "    </tr>\n",
       "    <tr>\n",
       "      <th>1</th>\n",
       "      <td>1</td>\n",
       "      <td>278</td>\n",
       "      <td>The Shawshank Redemption</td>\n",
       "      <td>[{'adult': False, 'gender': 2, 'id': 504, 'kno...</td>\n",
       "      <td>[{'adult': False, 'gender': 2, 'id': 153, 'kno...</td>\n",
       "    </tr>\n",
       "    <tr>\n",
       "      <th>2</th>\n",
       "      <td>2</td>\n",
       "      <td>240</td>\n",
       "      <td>The Godfather Part II</td>\n",
       "      <td>[{'adult': False, 'gender': 2, 'id': 1158, 'kn...</td>\n",
       "      <td>[{'adult': False, 'gender': 2, 'id': 154, 'kno...</td>\n",
       "    </tr>\n",
       "    <tr>\n",
       "      <th>3</th>\n",
       "      <td>3</td>\n",
       "      <td>19404</td>\n",
       "      <td>Dilwale Dulhania Le Jayenge</td>\n",
       "      <td>[{'adult': False, 'gender': 2, 'id': 35742, 'k...</td>\n",
       "      <td>[{'adult': False, 'gender': 1, 'id': 8311, 'kn...</td>\n",
       "    </tr>\n",
       "    <tr>\n",
       "      <th>4</th>\n",
       "      <td>4</td>\n",
       "      <td>424</td>\n",
       "      <td>Schindler's List</td>\n",
       "      <td>[{'adult': False, 'gender': 2, 'id': 3896, 'kn...</td>\n",
       "      <td>[{'adult': False, 'gender': 2, 'id': 491, 'kno...</td>\n",
       "    </tr>\n",
       "    <tr>\n",
       "      <th>...</th>\n",
       "      <td>...</td>\n",
       "      <td>...</td>\n",
       "      <td>...</td>\n",
       "      <td>...</td>\n",
       "      <td>...</td>\n",
       "    </tr>\n",
       "    <tr>\n",
       "      <th>9975</th>\n",
       "      <td>9975</td>\n",
       "      <td>384737</td>\n",
       "      <td>Precious Cargo</td>\n",
       "      <td>[{'adult': False, 'gender': 2, 'id': 62, 'know...</td>\n",
       "      <td>[{'adult': False, 'gender': 2, 'id': 4951, 'kn...</td>\n",
       "    </tr>\n",
       "    <tr>\n",
       "      <th>9976</th>\n",
       "      <td>9976</td>\n",
       "      <td>282813</td>\n",
       "      <td>The Pyramid</td>\n",
       "      <td>[{'adult': False, 'gender': 1, 'id': 589098, '...</td>\n",
       "      <td>[{'adult': False, 'gender': 2, 'id': 5673, 'kn...</td>\n",
       "    </tr>\n",
       "    <tr>\n",
       "      <th>9977</th>\n",
       "      <td>9977</td>\n",
       "      <td>134375</td>\n",
       "      <td>Home Alone: The Holiday Heist</td>\n",
       "      <td>[{'adult': False, 'gender': 1, 'id': 8338, 'kn...</td>\n",
       "      <td>[{'adult': False, 'gender': 2, 'id': 11505, 'k...</td>\n",
       "    </tr>\n",
       "    <tr>\n",
       "      <th>9978</th>\n",
       "      <td>9978</td>\n",
       "      <td>10477</td>\n",
       "      <td>Driven</td>\n",
       "      <td>[{'adult': False, 'gender': 2, 'id': 16483, 'k...</td>\n",
       "      <td>[{'adult': False, 'gender': 1, 'id': 2324, 'kn...</td>\n",
       "    </tr>\n",
       "    <tr>\n",
       "      <th>9979</th>\n",
       "      <td>9979</td>\n",
       "      <td>243688</td>\n",
       "      <td>Poltergeist</td>\n",
       "      <td>[{'adult': False, 'gender': 2, 'id': 6807, 'kn...</td>\n",
       "      <td>[{'adult': False, 'gender': 0, 'id': 8375, 'kn...</td>\n",
       "    </tr>\n",
       "  </tbody>\n",
       "</table>\n",
       "<p>9980 rows × 5 columns</p>\n",
       "</div>"
      ],
      "text/plain": [
       "      Unnamed: 0  Movie_id                          title  \\\n",
       "0              0       238                  The Godfather   \n",
       "1              1       278       The Shawshank Redemption   \n",
       "2              2       240          The Godfather Part II   \n",
       "3              3     19404    Dilwale Dulhania Le Jayenge   \n",
       "4              4       424               Schindler's List   \n",
       "...          ...       ...                            ...   \n",
       "9975        9975    384737                 Precious Cargo   \n",
       "9976        9976    282813                    The Pyramid   \n",
       "9977        9977    134375  Home Alone: The Holiday Heist   \n",
       "9978        9978     10477                         Driven   \n",
       "9979        9979    243688                    Poltergeist   \n",
       "\n",
       "                                                   Cast  \\\n",
       "0     [{'adult': False, 'gender': 2, 'id': 3084, 'kn...   \n",
       "1     [{'adult': False, 'gender': 2, 'id': 504, 'kno...   \n",
       "2     [{'adult': False, 'gender': 2, 'id': 1158, 'kn...   \n",
       "3     [{'adult': False, 'gender': 2, 'id': 35742, 'k...   \n",
       "4     [{'adult': False, 'gender': 2, 'id': 3896, 'kn...   \n",
       "...                                                 ...   \n",
       "9975  [{'adult': False, 'gender': 2, 'id': 62, 'know...   \n",
       "9976  [{'adult': False, 'gender': 1, 'id': 589098, '...   \n",
       "9977  [{'adult': False, 'gender': 1, 'id': 8338, 'kn...   \n",
       "9978  [{'adult': False, 'gender': 2, 'id': 16483, 'k...   \n",
       "9979  [{'adult': False, 'gender': 2, 'id': 6807, 'kn...   \n",
       "\n",
       "                                                   Crew  \n",
       "0     [{'adult': False, 'gender': 2, 'id': 154, 'kno...  \n",
       "1     [{'adult': False, 'gender': 2, 'id': 153, 'kno...  \n",
       "2     [{'adult': False, 'gender': 2, 'id': 154, 'kno...  \n",
       "3     [{'adult': False, 'gender': 1, 'id': 8311, 'kn...  \n",
       "4     [{'adult': False, 'gender': 2, 'id': 491, 'kno...  \n",
       "...                                                 ...  \n",
       "9975  [{'adult': False, 'gender': 2, 'id': 4951, 'kn...  \n",
       "9976  [{'adult': False, 'gender': 2, 'id': 5673, 'kn...  \n",
       "9977  [{'adult': False, 'gender': 2, 'id': 11505, 'k...  \n",
       "9978  [{'adult': False, 'gender': 1, 'id': 2324, 'kn...  \n",
       "9979  [{'adult': False, 'gender': 0, 'id': 8375, 'kn...  \n",
       "\n",
       "[9980 rows x 5 columns]"
      ]
     },
     "execution_count": 6,
     "metadata": {},
     "output_type": "execute_result"
    }
   ],
   "source": [
    "credits"
   ]
  },
  {
   "cell_type": "markdown",
   "metadata": {},
   "source": [
    "### Data Preprocessing \n",
    "1. Feature Selection (Dimentionality Reduction)"
   ]
  },
  {
   "cell_type": "code",
   "execution_count": 7,
   "metadata": {},
   "outputs": [
    {
     "name": "stdout",
     "output_type": "stream",
     "text": [
      "[{'adult': False, 'gender': 2, 'id': 154, 'known_for_department': 'Editing', 'name': 'Walter Murch', 'original_name': 'Walter Murch', 'popularity': 3.167, 'profile_path': '/kQh7U7kRLF9NKEMpxiGjZEIu0o3.jpg', 'credit_id': '62bd43fb63d9370092ba09da', 'department': 'Crew', 'job': 'Post Production Consulting'}, {'adult': False, 'gender': 2, 'id': 1776, 'known_for_department': 'Directing', 'name': 'Francis Ford Coppola', 'original_name': 'Francis Ford Coppola', 'popularity': 8.922, 'profile_path': '/mGKkVp3l9cipPt10AqoQnwaPrfI.jpg', 'credit_id': '52fe422bc3a36847f80093db', 'department': 'Writing', 'job': 'Screenplay'}, {'adult': False, 'gender': 2, 'id': 1776, 'known_for_department': 'Directing', 'name': 'Francis Ford Coppola', 'original_name': 'Francis Ford Coppola', 'popularity': 8.922, 'profile_path': '/mGKkVp3l9cipPt10AqoQnwaPrfI.jpg', 'credit_id': '5e92505cccb15f00136de455', 'department': 'Directing', 'job': 'Director'}, {'adult': False, 'gender': 2, 'id': 1776, 'known_for_department': 'Directing', 'name': 'Francis Ford Coppola', 'original_name': 'Francis Ford Coppola', 'popularity': 8.922, 'profile_path': '/mGKkVp3l9cipPt10AqoQnwaPrfI.jpg', 'credit_id': '5f9c86e3bc8abc003b2fe6b7', 'department': 'Crew', 'job': 'Thanks'}, {'adult': False, 'gender': 2, 'id': 2870, 'known_for_department': 'Production', 'name': 'Gray Frederickson', 'original_name': 'Gray Frederickson', 'popularity': 2.905, 'profile_path': None, 'credit_id': '53884fe1c3a3681ad7004590', 'department': 'Production', 'job': 'Associate Producer'}, {'adult': False, 'gender': 2, 'id': 2871, 'known_for_department': 'Production', 'name': 'Fred Roos', 'original_name': 'Fred Roos', 'popularity': 3.678, 'profile_path': '/qfXLY5E589l0TQnoayWmUrBDsgo.jpg', 'credit_id': '53885041c3a3681ad700459b', 'department': 'Production', 'job': 'Casting'}, {'adult': False, 'gender': 2, 'id': 2872, 'known_for_department': 'Sound', 'name': 'Carmine Coppola', 'original_name': 'Carmine Coppola', 'popularity': 3.961, 'profile_path': '/iURpKXIgdtQoVCBQ8GKGvb0Qw5z.jpg', 'credit_id': '62bd43877304b52384a221cb', 'department': 'Crew', 'job': 'Additional Music'}, {'adult': False, 'gender': 2, 'id': 2875, 'known_for_department': 'Art', 'name': 'Dean Tavoularis', 'original_name': 'Dean Tavoularis', 'popularity': 5.116, 'profile_path': '/hrRBaXUn2k29qd1MvAxuag5L32c.jpg', 'credit_id': '53884b4e0e0a261441005deb', 'department': 'Art', 'job': 'Production Design'}, {'adult': False, 'gender': 2, 'id': 457, 'known_for_department': 'Production', 'name': 'Albert S. Ruddy', 'original_name': 'Albert S. Ruddy', 'popularity': 8.811, 'profile_path': None, 'credit_id': '52fe422bc3a36847f80093cf', 'department': 'Production', 'job': 'Producer'}, {'adult': False, 'gender': 2, 'id': 949, 'known_for_department': 'Production', 'name': 'Louis DiGiaimo', 'original_name': 'Louis DiGiaimo', 'popularity': 0.6, 'profile_path': None, 'credit_id': '53885009c3a3682f780004c6', 'department': 'Production', 'job': 'Casting'}, {'adult': False, 'gender': 2, 'id': 1044, 'known_for_department': 'Camera', 'name': 'Michael Chapman', 'original_name': 'Michael Chapman', 'popularity': 1.238, 'profile_path': '/vFFWHlwwIgWoi2NPoVq3uzikCnM.jpg', 'credit_id': '62bd4492097c490051497166', 'department': 'Camera', 'job': 'Camera Operator'}, {'adult': False, 'gender': 2, 'id': 3083, 'known_for_department': 'Writing', 'name': 'Mario Puzo', 'original_name': 'Mario Puzo', 'popularity': 5.142, 'profile_path': '/lEsT1uCZAZg1nYDQe3Fsj9CalzT.jpg', 'credit_id': '52fe422bc3a36847f80093d5', 'department': 'Writing', 'job': 'Screenplay'}, {'adult': False, 'gender': 2, 'id': 3083, 'known_for_department': 'Writing', 'name': 'Mario Puzo', 'original_name': 'Mario Puzo', 'popularity': 5.142, 'profile_path': '/lEsT1uCZAZg1nYDQe3Fsj9CalzT.jpg', 'credit_id': '538848cec3a3681aea00405a', 'department': 'Writing', 'job': 'Novel'}, {'adult': False, 'gender': 2, 'id': 3097, 'known_for_department': 'Camera', 'name': 'Gordon Willis', 'original_name': 'Gordon Willis', 'popularity': 2.194, 'profile_path': '/6gOmfatlF7UdhaHi2tPsZMb5vmz.jpg', 'credit_id': '538848a0c3a3681ae3004283', 'department': 'Camera', 'job': 'Director of Photography'}, {'adult': False, 'gender': 2, 'id': 3098, 'known_for_department': 'Sound', 'name': 'Nino Rota', 'original_name': 'Nino Rota', 'popularity': 6.266, 'profile_path': '/v42v3uM7jqwoZxDJ8MlEtT6Ol7a.jpg', 'credit_id': '538848b1c3a3681aea004056', 'department': 'Sound', 'job': 'Original Music Composer'}, {'adult': False, 'gender': 2, 'id': 3099, 'known_for_department': 'Editing', 'name': 'William Reynolds', 'original_name': 'William Reynolds', 'popularity': 4.655, 'profile_path': None, 'credit_id': '52fe422bc3a36847f80093ed', 'department': 'Editing', 'job': 'Editor'}, {'adult': False, 'gender': 2, 'id': 3100, 'known_for_department': 'Editing', 'name': 'Peter Zinner', 'original_name': 'Peter Zinner', 'popularity': 2.321, 'profile_path': None, 'credit_id': '52fe422bc3a36847f80093f3', 'department': 'Editing', 'job': 'Editor'}, {'adult': False, 'gender': 0, 'id': 3101, 'known_for_department': 'Production', 'name': 'Andrea Eastman', 'original_name': 'Andrea Eastman', 'popularity': 1.4, 'profile_path': None, 'credit_id': '53885029c3a3681ad7004596', 'department': 'Production', 'job': 'Casting'}, {'adult': False, 'gender': 2, 'id': 3103, 'known_for_department': 'Sound', 'name': 'Charles Grenzbach', 'original_name': 'Charles Grenzbach', 'popularity': 1.4, 'profile_path': None, 'credit_id': '570006ec9251417647000790', 'department': 'Sound', 'job': 'Sound Re-Recording Mixer'}, {'adult': False, 'gender': 2, 'id': 3104, 'known_for_department': 'Sound', 'name': 'Chris Newman', 'original_name': 'Chris Newman', 'popularity': 1.4, 'profile_path': None, 'credit_id': '569d53449251415e67004177', 'department': 'Sound', 'job': 'Sound'}, {'adult': False, 'gender': 2, 'id': 3105, 'known_for_department': 'Sound', 'name': 'Richard Portman', 'original_name': 'Richard Portman', 'popularity': 2.02, 'profile_path': None, 'credit_id': '568c060ac3a3685f89018710', 'department': 'Sound', 'job': 'Sound Re-Recording Mixer'}, {'adult': False, 'gender': 0, 'id': 3106, 'known_for_department': 'Sound', 'name': 'John C. Hammell', 'original_name': 'John C. Hammell', 'popularity': 0.6, 'profile_path': None, 'credit_id': '56cb4864c3a3684e2500045e', 'department': 'Sound', 'job': 'Music Editor'}, {'adult': False, 'gender': 2, 'id': 6099, 'known_for_department': 'Production', 'name': 'Valerio De Paolis', 'original_name': 'Valerio De Paolis', 'popularity': 0.614, 'profile_path': '/rbsYkbJPgQAMuFY71RYrYatdXWT.jpg', 'credit_id': '563e3d18c3a3681b5402d6d3', 'department': 'Production', 'job': 'Production Manager'}, {'adult': False, 'gender': 1, 'id': 6851, 'known_for_department': 'Costume & Make-Up', 'name': 'Anna Hill Johnstone', 'original_name': 'Anna Hill Johnstone', 'popularity': 0.98, 'profile_path': None, 'credit_id': '53884fc3c3a3681add0044ad', 'department': 'Costume & Make-Up', 'job': 'Costume Design'}, {'adult': False, 'gender': 0, 'id': 16194, 'known_for_department': 'Costume & Make-Up', 'name': 'Philip Leto', 'original_name': 'Philip Leto', 'popularity': 1.04, 'profile_path': None, 'credit_id': '56a76fd49251412a04002fa6', 'department': 'Costume & Make-Up', 'job': 'Hairstylist'}, {'adult': False, 'gender': 2, 'id': 10546, 'known_for_department': 'Production', 'name': 'Fred T. Gallo', 'original_name': 'Fred T. Gallo', 'popularity': 0.6, 'profile_path': None, 'credit_id': '5e9250a3875d1a001442c342', 'department': 'Directing', 'job': 'Assistant Director'}, {'adult': False, 'gender': 0, 'id': 11789, 'known_for_department': 'Production', 'name': 'Fred C. Caruso', 'original_name': 'Fred C. Caruso', 'popularity': 2.234, 'profile_path': None, 'credit_id': '57447bba925141110900063d', 'department': 'Production', 'job': 'Unit Production Manager'}, {'adult': False, 'gender': 2, 'id': 12288, 'known_for_department': 'Production', 'name': 'Robert Evans', 'original_name': 'Robert Evans', 'popularity': 1.234, 'profile_path': '/rCiTT2VrBKeHWdnHAyfGtMXs9go.jpg', 'credit_id': '57447b41c3a36807770006ab', 'department': 'Production', 'job': 'Executive Producer'}, {'adult': False, 'gender': 0, 'id': 14059, 'known_for_department': 'Crew', 'name': 'Sass Bedig', 'original_name': 'Sass Bedig', 'popularity': 0.674, 'profile_path': None, 'credit_id': '57448523925141218f000400', 'department': 'Crew', 'job': 'Special Effects'}, {'adult': False, 'gender': 2, 'id': 29389, 'known_for_department': 'Sound', 'name': 'Carlo Savina', 'original_name': 'Carlo Savina', 'popularity': 0.702, 'profile_path': None, 'credit_id': '62bd436412aabc151f2dbaef', 'department': 'Sound', 'job': 'Conductor'}, {'adult': False, 'gender': 2, 'id': 29654, 'known_for_department': 'Costume & Make-Up', 'name': 'Dick Smith', 'original_name': 'Dick Smith', 'popularity': 1.4, 'profile_path': '/kKCenlQ8iQCTLGfX8ZPpJFpxvwS.jpg', 'credit_id': '56a76ff8c3a36819c9002fcb', 'department': 'Costume & Make-Up', 'job': 'Makeup Artist'}, {'adult': False, 'gender': 2, 'id': 30580, 'known_for_department': 'Art', 'name': 'Philip Smith', 'original_name': 'Philip Smith', 'popularity': 0.6, 'profile_path': None, 'credit_id': '53884fb2c3a3681ad700458c', 'department': 'Art', 'job': 'Set Decoration'}, {'adult': False, 'gender': 0, 'id': 81519, 'known_for_department': 'Art', 'name': 'Warren Clymer', 'original_name': 'Warren Clymer', 'popularity': 1.38, 'profile_path': None, 'credit_id': '53884f8dc3a3681add0044a6', 'department': 'Art', 'job': 'Art Direction'}, {'adult': False, 'gender': 0, 'id': 81532, 'known_for_department': 'Costume & Make-Up', 'name': 'George Newman', 'original_name': 'George Newman', 'popularity': 0.6, 'profile_path': None, 'credit_id': '62bd446a7304b523856c2c25', 'department': 'Costume & Make-Up', 'job': 'Wardrobe Supervisor'}, {'adult': False, 'gender': 2, 'id': 51302, 'known_for_department': 'Crew', 'name': 'Joe Bucaro III', 'original_name': 'Joe Bucaro III', 'popularity': 7.525, 'profile_path': '/gvJs1YQZRrSbkiSGAiCAugaXyzl.jpg', 'credit_id': '574486e0c3a368076b000ac6', 'department': 'Crew', 'job': 'Stunts'}, {'adult': False, 'gender': 2, 'id': 96912, 'known_for_department': 'Crew', 'name': 'Joe Lombardi', 'original_name': 'Joe Lombardi', 'popularity': 1.358, 'profile_path': None, 'credit_id': '574485a9925141218f000420', 'department': 'Crew', 'job': 'Special Effects'}, {'adult': False, 'gender': 2, 'id': 718968, 'known_for_department': 'Production', 'name': 'Stephen F. Kesten', 'original_name': 'Stephen F. Kesten', 'popularity': 1.4, 'profile_path': None, 'credit_id': '5e9250b284448e00148f0783', 'department': 'Directing', 'job': 'Assistant Director'}, {'adult': False, 'gender': 2, 'id': 1318092, 'known_for_department': 'Crew', 'name': 'Paul J. Lombardi', 'original_name': 'Paul J. Lombardi', 'popularity': 1.121, 'profile_path': None, 'credit_id': '5744865f92514120a70004b3', 'department': 'Visual Effects', 'job': 'Special Effects Supervisor'}, {'adult': False, 'gender': 2, 'id': 1433439, 'known_for_department': 'Crew', 'name': 'Paul Baxley', 'original_name': 'Paul Baxley', 'popularity': 4.86, 'profile_path': None, 'credit_id': '574486b4c3a3681c760004a9', 'department': 'Crew', 'job': 'Stunt Coordinator'}, {'adult': False, 'gender': 1, 'id': 1511672, 'known_for_department': 'Directing', 'name': 'Nancy Hopton', 'original_name': 'Nancy Hopton', 'popularity': 0.63, 'profile_path': None, 'credit_id': '62bd44c217b5ef04e6b3fc04', 'department': 'Directing', 'job': 'Script Supervisor'}, {'adult': False, 'gender': 0, 'id': 1518601, 'known_for_department': 'Costume & Make-Up', 'name': 'Phil Rhodes', 'original_name': 'Phil Rhodes', 'popularity': 0.6, 'profile_path': None, 'credit_id': '56a76fc79251412a04002fa3', 'department': 'Costume & Make-Up', 'job': 'Makeup Artist'}, {'adult': False, 'gender': 2, 'id': 1546904, 'known_for_department': 'Camera', 'name': 'Robert Ward', 'original_name': 'Robert Ward', 'popularity': 0.6, 'profile_path': None, 'credit_id': '566871e5c3a36836ac0038f7', 'department': 'Camera', 'job': 'Grip'}, {'adult': False, 'gender': 0, 'id': 1614958, 'known_for_department': 'Crew', 'name': 'Steven Burnett', 'original_name': 'Steven Burnett', 'popularity': 1.065, 'profile_path': None, 'credit_id': '5744870d92514133d400001b', 'department': 'Crew', 'job': 'Stunts'}, {'adult': False, 'gender': 0, 'id': 1625346, 'known_for_department': 'Production', 'name': 'Ned Kopp', 'original_name': 'Ned Kopp', 'popularity': 0.6, 'profile_path': None, 'credit_id': '57447c09925141110f000695', 'department': 'Production', 'job': 'Production Manager'}, {'adult': False, 'gender': 2, 'id': 1625347, 'known_for_department': 'Directing', 'name': 'Tony Brandt', 'original_name': 'Tony Brandt', 'popularity': 0.6, 'profile_path': None, 'credit_id': '5e92510accb15f00156de8d4', 'department': 'Directing', 'job': 'Assistant Director'}, {'adult': False, 'gender': 0, 'id': 1789636, 'known_for_department': 'Sound', 'name': 'Carl Fortina', 'original_name': 'Carl Fortina', 'popularity': 0.98, 'profile_path': None, 'credit_id': '58e3cf17c3a3684aa40124b5', 'department': 'Sound', 'job': 'Musician'}, {'adult': False, 'gender': 0, 'id': 3357584, 'known_for_department': 'Production', 'name': 'Michael Briggs', 'original_name': 'Michael Briggs', 'popularity': 0.6, 'profile_path': None, 'credit_id': '62bd45a47ef3812768ed8113', 'department': 'Production', 'job': 'Location Coordinator'}, {'adult': False, 'gender': 0, 'id': 3606474, 'known_for_department': 'Production', 'name': 'Tony Bowers', 'original_name': 'Tony Bowers', 'popularity': 0.6, 'profile_path': None, 'credit_id': '62bd45e59a9f9a008bf772b9', 'department': 'Production', 'job': 'Location Coordinator'}]\n",
      "[{'adult': False, 'gender': 2, 'id': 153, 'known_for_department': 'Sound', 'name': 'Thomas Newman', 'original_name': 'Thomas Newman', 'popularity': 3.87, 'profile_path': '/j8rIiOSdBjtDL5vji8m5BtChZou.jpg', 'credit_id': '52fe4231c3a36847f800b153', 'department': 'Sound', 'job': 'Original Music Composer'}, {'adult': False, 'gender': 2, 'id': 153, 'known_for_department': 'Sound', 'name': 'Thomas Newman', 'original_name': 'Thomas Newman', 'popularity': 3.87, 'profile_path': '/j8rIiOSdBjtDL5vji8m5BtChZou.jpg', 'credit_id': '5c7c6ad80e0a2632130dbe86', 'department': 'Sound', 'job': 'Conductor'}, {'adult': False, 'gender': 2, 'id': 151, 'known_for_department': 'Camera', 'name': 'Roger Deakins', 'original_name': 'Roger Deakins', 'popularity': 4.843, 'profile_path': '/pSCN7CfILlfQrxX43Kgqrx5mBYQ.jpg', 'credit_id': '52fe4231c3a36847f800b159', 'department': 'Camera', 'job': 'Director of Photography'}, {'adult': False, 'gender': 2, 'id': 2026, 'known_for_department': 'Art', 'name': 'Peter Landsdown Smith', 'original_name': 'Peter Landsdown Smith', 'popularity': 0.84, 'profile_path': None, 'credit_id': '5745cd1692514127cb00062a', 'department': 'Art', 'job': 'Art Direction'}, {'adult': False, 'gender': 2, 'id': 3027, 'known_for_department': 'Writing', 'name': 'Stephen King', 'original_name': 'Stephen King', 'popularity': 19.594, 'profile_path': '/7r5nEzNanuEhmxtpsKE1uCBU5Jd.jpg', 'credit_id': '575cfd879251412b0c001d2a', 'department': 'Writing', 'job': 'Novel'}, {'adult': False, 'gender': 2, 'id': 3027, 'known_for_department': 'Writing', 'name': 'Stephen King', 'original_name': 'Stephen King', 'popularity': 19.594, 'profile_path': '/7r5nEzNanuEhmxtpsKE1uCBU5Jd.jpg', 'credit_id': '5a85ea3cc3a36863e7027e03', 'department': 'Crew', 'job': 'Thanks'}, {'adult': False, 'gender': 1, 'id': 3965, 'known_for_department': 'Production', 'name': 'Deborah Aquila', 'original_name': 'Deborah Aquila', 'popularity': 2.596, 'profile_path': '/21tKfmoNpulz84RuWXPUXHuAwU2.jpg', 'credit_id': '52fe4231c3a36847f800b171', 'department': 'Production', 'job': 'Casting'}, {'adult': False, 'gender': 2, 'id': 4027, 'known_for_department': 'Writing', 'name': 'Frank Darabont', 'original_name': 'Frank Darabont', 'popularity': 19.414, 'profile_path': '/nvOqAQhKtXdHtczgqanoCfltsxJ.jpg', 'credit_id': '62bec10a28723c007c122123', 'department': 'Writing', 'job': 'Screenplay'}, {'adult': False, 'gender': 2, 'id': 4027, 'known_for_department': 'Writing', 'name': 'Frank Darabont', 'original_name': 'Frank Darabont', 'popularity': 19.414, 'profile_path': '/nvOqAQhKtXdHtczgqanoCfltsxJ.jpg', 'credit_id': '5e8477cd691cd5001257256a', 'department': 'Directing', 'job': 'Director'}, {'adult': False, 'gender': 0, 'id': 4028, 'known_for_department': 'Production', 'name': 'Niki Marvin', 'original_name': 'Niki Marvin', 'popularity': 0.984, 'profile_path': None, 'credit_id': '52fe4231c3a36847f800b12d', 'department': 'Production', 'job': 'Producer'}, {'adult': False, 'gender': 2, 'id': 6581, 'known_for_department': 'Editing', 'name': 'Richard Francis-Bruce', 'original_name': 'Richard Francis-Bruce', 'popularity': 2.626, 'profile_path': '/pZUcIBbaWsX64d5Qy3SyGKcl88U.jpg', 'credit_id': '52fe4231c3a36847f800b15f', 'department': 'Editing', 'job': 'Editor'}, {'adult': False, 'gender': 0, 'id': 6583, 'known_for_department': 'Production', 'name': 'Julie Lichter', 'original_name': 'Julie Lichter', 'popularity': 0.743, 'profile_path': None, 'credit_id': '52fe4231c3a36847f800b165', 'department': 'Production', 'job': 'Casting'}, {'adult': False, 'gender': 2, 'id': 6584, 'known_for_department': 'Art', 'name': 'Terence Marsh', 'original_name': 'Terence Marsh', 'popularity': 3.604, 'profile_path': '/m7xEy228uqk14ragNaXAHqaNlPv.jpg', 'credit_id': '52fe4231c3a36847f800b16b', 'department': 'Art', 'job': 'Production Design'}, {'adult': False, 'gender': 2, 'id': 4054, 'known_for_department': 'Production', 'name': 'David V. Lester', 'original_name': 'David V. Lester', 'popularity': 0.6, 'profile_path': None, 'credit_id': '55737903c3a36838d3004e64', 'department': 'Production', 'job': 'Executive Producer'}, {'adult': False, 'gender': 2, 'id': 4054, 'known_for_department': 'Production', 'name': 'David V. Lester', 'original_name': 'David V. Lester', 'popularity': 0.6, 'profile_path': None, 'credit_id': '58bf3ca1c3a36851460011b3', 'department': 'Production', 'job': 'Unit Production Manager'}, {'adult': False, 'gender': 1, 'id': 5710, 'known_for_department': 'Costume & Make-Up', 'name': 'Elizabeth McBride', 'original_name': 'Elizabeth McBride', 'popularity': 0.6, 'profile_path': None, 'credit_id': '62ca1ad5d705940051fd1e55', 'department': 'Costume & Make-Up', 'job': 'Costume Design'}, {'adult': False, 'gender': 2, 'id': 6801, 'known_for_department': 'Art', 'name': 'Michael Seirton', 'original_name': 'Michael Seirton', 'popularity': 1.052, 'profile_path': None, 'credit_id': '5657a69fc3a3683083000231', 'department': 'Art', 'job': 'Set Decoration'}, {'adult': False, 'gender': 2, 'id': 7538, 'known_for_department': 'Sound', 'name': 'Bill Bernstein', 'original_name': 'Bill Bernstein', 'popularity': 0.733, 'profile_path': None, 'credit_id': '58bf3dfc925141368b0014ca', 'department': 'Sound', 'job': 'Music Editor'}, {'adult': False, 'gender': 0, 'id': 9444, 'known_for_department': 'Sound', 'name': 'Marilyn Graf', 'original_name': 'Marilyn Graf', 'popularity': 3.991, 'profile_path': None, 'credit_id': '5c7c69ef0e0a2605310dc1ce', 'department': 'Sound', 'job': 'Foley Mixer'}, {'adult': False, 'gender': 0, 'id': 40120, 'known_for_department': 'Camera', 'name': \"Brian 'Buzz' Buzzelli\", 'original_name': \"Brian 'Buzz' Buzzelli\", 'popularity': 0.6, 'profile_path': None, 'credit_id': '5745d2ed92514129a0002e65', 'department': 'Camera', 'job': 'Grip'}, {'adult': False, 'gender': 1, 'id': 46347, 'known_for_department': 'Production', 'name': 'Liz Glotzer', 'original_name': 'Liz Glotzer', 'popularity': 1.453, 'profile_path': None, 'credit_id': '557378f7c3a3686ef90023b9', 'department': 'Production', 'job': 'Executive Producer'}, {'adult': False, 'gender': 2, 'id': 52603, 'known_for_department': 'Acting', 'name': 'Alfonso Freeman', 'original_name': 'Alfonso Freeman', 'popularity': 14.745, 'profile_path': '/9H4wX5clEpFfD3SG2JPoGH3LIgV.jpg', 'credit_id': '5a85ed53c3a368637c028e2a', 'department': 'Crew', 'job': \"Actor's Assistant\"}, {'adult': False, 'gender': 1, 'id': 61381, 'known_for_department': 'Production', 'name': 'Sue Bea Montgomery', 'original_name': 'Sue Bea Montgomery', 'popularity': 0.6, 'profile_path': None, 'credit_id': '5745ce56c3a3682a2e0005ef', 'department': 'Production', 'job': 'Production Supervisor'}, {'adult': False, 'gender': 1, 'id': 74823, 'known_for_department': 'Directing', 'name': 'Sioux Richards', 'original_name': 'Sioux Richards', 'popularity': 0.6, 'profile_path': None, 'credit_id': '58bf3ceac3a368516c001245', 'department': 'Directing', 'job': 'Script Supervisor'}, {'adult': False, 'gender': 2, 'id': 77295, 'known_for_department': 'Directing', 'name': 'Jesse V. Johnson', 'original_name': 'Jesse V. Johnson', 'popularity': 6.163, 'profile_path': '/8LqBbiV21OHfyYqnnxCICdKMWU4.jpg', 'credit_id': '5ab624d5c3a3680a3e0078e6', 'department': 'Crew', 'job': 'Set Production Assistant'}, {'adult': False, 'gender': 2, 'id': 77295, 'known_for_department': 'Directing', 'name': 'Jesse V. Johnson', 'original_name': 'Jesse V. Johnson', 'popularity': 6.163, 'profile_path': '/8LqBbiV21OHfyYqnnxCICdKMWU4.jpg', 'credit_id': '5c7c6980c3a3684a92175977', 'department': 'Directing', 'job': 'Third Assistant Director'}, {'adult': False, 'gender': 0, 'id': 90148, 'known_for_department': 'Sound', 'name': 'Rick Canelli', 'original_name': 'Rick Canelli', 'popularity': 1.033, 'profile_path': None, 'credit_id': '5c7c69cb92514175a2469baf', 'department': 'Sound', 'job': 'ADR Recordist'}, {'adult': False, 'gender': 2, 'id': 91941, 'known_for_department': 'Crew', 'name': 'Ernie Malik', 'original_name': 'Ernie Malik', 'popularity': 2.418, 'profile_path': None, 'credit_id': '58bf3cb9c3a368513b00129f', 'department': 'Crew', 'job': 'Unit Publicist'}, {'adult': False, 'gender': 2, 'id': 91941, 'known_for_department': 'Crew', 'name': 'Ernie Malik', 'original_name': 'Ernie Malik', 'popularity': 2.418, 'profile_path': None, 'credit_id': '5a85ecab0e0a26545302b86b', 'department': 'Production', 'job': 'Publicist'}, {'adult': False, 'gender': 0, 'id': 106117, 'known_for_department': 'Acting', 'name': 'Thomas Schellenberg', 'original_name': 'Thomas Schellenberg', 'popularity': 0.6, 'profile_path': None, 'credit_id': '5745cf07c3a3681b3a00062a', 'department': 'Directing', 'job': 'Assistant Director'}, {'adult': False, 'gender': 2, 'id': 108147, 'known_for_department': 'Lighting', 'name': 'Jeremy Knaster', 'original_name': 'Jeremy Knaster', 'popularity': 0.6, 'profile_path': None, 'credit_id': '58bf3d38c3a368515e001217', 'department': 'Lighting', 'job': 'Best Boy Electric'}, {'adult': False, 'gender': 2, 'id': 127314, 'known_for_department': 'Acting', 'name': 'Jerry Gatlin', 'original_name': 'Jerry Gatlin', 'popularity': 4.093, 'profile_path': None, 'credit_id': '5745d1abc3a368698e00196a', 'department': 'Crew', 'job': 'Stunt Coordinator'}, {'adult': False, 'gender': 2, 'id': 142686, 'known_for_department': 'Writing', 'name': 'David Leslie Johnson-McGoldrick', 'original_name': 'David Leslie Johnson-McGoldrick', 'popularity': 8.872, 'profile_path': '/4asz1xDkGKMferQ2L9Gexd9CPvs.jpg', 'credit_id': '5c7c6b0e0e0a2632290dc7a0', 'department': 'Production', 'job': 'Production Assistant'}, {'adult': False, 'gender': 2, 'id': 159112, 'known_for_department': 'Editing', 'name': 'David Orr', 'original_name': 'David Orr', 'popularity': 0.815, 'profile_path': None, 'credit_id': '5acee69c9251415a6d01dad7', 'department': 'Editing', 'job': 'Color Timer'}, {'adult': False, 'gender': 2, 'id': 178698, 'known_for_department': 'Acting', 'name': 'Tom Lent', 'original_name': 'Tom Lent', 'popularity': 0.98, 'profile_path': None, 'credit_id': '5a85eaf70e0a2653db02bcb1', 'department': 'Production', 'job': 'ADR Voice Casting'}, {'adult': False, 'gender': 1, 'id': 230436, 'known_for_department': 'Production', 'name': 'Barbara Harris', 'original_name': 'Barbara Harris', 'popularity': 1.609, 'profile_path': '/d1BGeZT2b81Wa9gCOPdrXGWUtmR.jpg', 'credit_id': '5c7c6a87c3a368315e174cb8', 'department': 'Production', 'job': 'ADR Voice Casting'}, {'adult': False, 'gender': 0, 'id': 237921, 'known_for_department': 'Crew', 'name': 'Daniel W. Barringer', 'original_name': 'Daniel W. Barringer', 'popularity': 0.776, 'profile_path': None, 'credit_id': '58bf3c5b92514136490013a5', 'department': 'Crew', 'job': 'Stunts'}, {'adult': False, 'gender': 0, 'id': 589968, 'known_for_department': 'Camera', 'name': 'Bruce Hamme', 'original_name': 'Bruce Hamme', 'popularity': 1.043, 'profile_path': None, 'credit_id': '5c7c6a3e9251417b8446982c', 'department': 'Camera', 'job': 'Dolly Grip'}, {'adult': False, 'gender': 2, 'id': 957990, 'known_for_department': 'Costume & Make-Up', 'name': 'Monty Westmore', 'original_name': 'Monty Westmore', 'popularity': 0.819, 'profile_path': None, 'credit_id': '56ddbfe2c3a3685d67000070', 'department': 'Costume & Make-Up', 'job': 'Makeup Artist'}, {'adult': False, 'gender': 2, 'id': 1123794, 'known_for_department': 'Directing', 'name': 'John R. Woodward', 'original_name': 'John R. Woodward', 'popularity': 2.179, 'profile_path': '/9vsgOeMtjnVCZYrzxAfT7ADjoeX.jpg', 'credit_id': '5745ce97c3a3681b3a000618', 'department': 'Directing', 'job': 'Assistant Director'}, {'adult': False, 'gender': 0, 'id': 1174976, 'known_for_department': 'Production', 'name': 'Linda Weaver', 'original_name': 'Linda Weaver', 'popularity': 0.616, 'profile_path': None, 'credit_id': '5c7c6af8c3a3684a95176108', 'department': 'Production', 'job': 'Extras Casting Assistant'}, {'adult': False, 'gender': 0, 'id': 1183381, 'known_for_department': 'Acting', 'name': 'Mickey Guinn', 'original_name': 'Mickey Guinn', 'popularity': 0.6, 'profile_path': None, 'credit_id': '5c536f2ac3a368576a9a4491', 'department': 'Crew', 'job': 'Stunts'}, {'adult': False, 'gender': 0, 'id': 1185588, 'known_for_department': 'Crew', 'name': 'Fred Culbertson', 'original_name': 'Fred Culbertson', 'popularity': 0.6, 'profile_path': None, 'credit_id': '58bf3c75925141367b00138b', 'department': 'Crew', 'job': 'Transportation Captain'}, {'adult': False, 'gender': 2, 'id': 1224156, 'known_for_department': 'Acting', 'name': 'Tom Morga', 'original_name': 'Tom Morga', 'popularity': 2.221, 'profile_path': '/mSYW38zL1wA4GvntN1TNrdtB6C1.jpg', 'credit_id': '5c7c6a16c3a3684a95175f32', 'department': 'Crew', 'job': 'Stunt Double'}, {'adult': False, 'gender': 0, 'id': 1258175, 'known_for_department': 'Acting', 'name': 'Keith Shaw', 'original_name': 'Keith Shaw', 'popularity': 0.6, 'profile_path': None, 'credit_id': '5c7c6abe92514137b7469312', 'department': 'Editing', 'job': 'Colorist'}, {'adult': False, 'gender': 2, 'id': 1278542, 'known_for_department': 'Crew', 'name': \"Robert 'Bobby Z' Zajonc\", 'original_name': \"Robert 'Bobby Z' Zajonc\", 'popularity': 2.246, 'profile_path': None, 'credit_id': '58bf3af6c3a368513b00112c', 'department': 'Camera', 'job': 'Aerial Camera'}, {'adult': False, 'gender': 2, 'id': 1278542, 'known_for_department': 'Crew', 'name': \"Robert 'Bobby Z' Zajonc\", 'original_name': \"Robert 'Bobby Z' Zajonc\", 'popularity': 2.246, 'profile_path': None, 'credit_id': '5a85ead80e0a2652ab028aef', 'department': 'Crew', 'job': 'Aerial Coordinator'}, {'adult': False, 'gender': 2, 'id': 1278542, 'known_for_department': 'Crew', 'name': \"Robert 'Bobby Z' Zajonc\", 'original_name': \"Robert 'Bobby Z' Zajonc\", 'popularity': 2.246, 'profile_path': None, 'credit_id': '5a85eb5c9251410b4d026eb6', 'department': 'Crew', 'job': 'Pilot'}, {'adult': False, 'gender': 0, 'id': 1311828, 'known_for_department': 'Visual Effects', 'name': 'Bob Williams', 'original_name': 'Bob Williams', 'popularity': 0.91, 'profile_path': None, 'credit_id': '5745cfe092514127cb00067f', 'department': 'Crew', 'job': 'Special Effects'}, {'adult': False, 'gender': 0, 'id': 1319490, 'known_for_department': 'Costume & Make-Up', 'name': 'Kevin Haney', 'original_name': 'Kevin Haney', 'popularity': 1.873, 'profile_path': None, 'credit_id': '575221589251414c5a0004a2', 'department': 'Costume & Make-Up', 'job': 'Makeup Artist'}, {'adult': False, 'gender': 0, 'id': 1325119, 'known_for_department': 'Sound', 'name': 'Tommy Morgan', 'original_name': 'Tommy Morgan', 'popularity': 0.709, 'profile_path': None, 'credit_id': '57c71a9d9251417366005714', 'department': 'Sound', 'job': 'Additional Soundtrack'}, {'adult': False, 'gender': 0, 'id': 1343721, 'known_for_department': 'Production', 'name': 'Tom Cotter', 'original_name': 'Tom Cotter', 'popularity': 0.6, 'profile_path': None, 'credit_id': '5a85eda59251410b010262ea', 'department': 'Crew', 'job': \"Actor's Assistant\"}, {'adult': False, 'gender': 0, 'id': 1347724, 'known_for_department': 'Acting', 'name': 'Robert Barnett', 'original_name': 'Robert Barnett', 'popularity': 0.6, 'profile_path': None, 'credit_id': '5a85ede2c3a36862e10293d0', 'department': 'Directing', 'job': 'Assistant Director'}, {'adult': False, 'gender': 2, 'id': 1376818, 'known_for_department': 'Sound', 'name': 'Kevin Bartnof', 'original_name': 'Kevin Bartnof', 'popularity': 0.747, 'profile_path': None, 'credit_id': '5c7c69dd9251417b8446973b', 'department': 'Sound', 'job': 'Foley Artist'}, {'adult': False, 'gender': 2, 'id': 1378229, 'known_for_department': 'Sound', 'name': 'Marvin E. Lewis', 'original_name': 'Marvin E. Lewis', 'popularity': 1.166, 'profile_path': None, 'credit_id': '58bf3dc692514136700012ce', 'department': 'Sound', 'job': 'Boom Operator'}, {'adult': False, 'gender': 0, 'id': 1380704, 'known_for_department': 'Costume & Make-Up', 'name': 'Taneia Lednicky', 'original_name': 'Taneia Lednicky', 'popularity': 0.6, 'profile_path': None, 'credit_id': '5c7c6aad9251415147469eb7', 'department': 'Costume & Make-Up', 'job': 'Wardrobe Supervisor'}, {'adult': False, 'gender': 2, 'id': 1392236, 'known_for_department': 'Art', 'name': 'Sebastian Milito', 'original_name': 'Sebastian Milito', 'popularity': 1.248, 'profile_path': None, 'credit_id': '58bf39b8c3a3685146000f7d', 'department': 'Art', 'job': 'Construction Coordinator'}, {'adult': False, 'gender': 2, 'id': 1392250, 'known_for_department': 'Crew', 'name': 'David Marder', 'original_name': 'David Marder', 'popularity': 0.684, 'profile_path': None, 'credit_id': '58bf3c8c92514136490013df', 'department': 'Crew', 'job': 'Transportation Coordinator'}, {'adult': False, 'gender': 0, 'id': 1400821, 'known_for_department': 'Visual Effects', 'name': 'Melissa Taylor', 'original_name': 'Melissa Taylor', 'popularity': 0.6, 'profile_path': None, 'credit_id': '5745d12492514153c1002735', 'department': 'Visual Effects', 'job': 'Visual Effects Producer'}, {'adult': False, 'gender': 2, 'id': 1401262, 'known_for_department': 'Crew', 'name': 'Dick Hancock', 'original_name': 'Dick Hancock', 'popularity': 1.049, 'profile_path': None, 'credit_id': '574b1d2892514140010016b3', 'department': 'Crew', 'job': 'Stunts'}, {'adult': False, 'gender': 0, 'id': 1401997, 'known_for_department': 'Lighting', 'name': \"Bill O'Leary\", 'original_name': \"Bill O'Leary\", 'popularity': 4.025, 'profile_path': None, 'credit_id': '5745d4be925141323200065b', 'department': 'Lighting', 'job': 'Gaffer'}, {'adult': False, 'gender': 0, 'id': 1405708, 'known_for_department': 'Art', 'name': 'Antoinette J. Gordon', 'original_name': 'Antoinette J. Gordon', 'popularity': 1.144, 'profile_path': None, 'credit_id': '58bf3a38c3a368518200107b', 'department': 'Art', 'job': 'Set Designer'}, {'adult': False, 'gender': 2, 'id': 1413169, 'known_for_department': 'Sound', 'name': 'Dennis S. Sands', 'original_name': 'Dennis S. Sands', 'popularity': 0.814, 'profile_path': None, 'credit_id': '58bf3e45c3a368516c00135a', 'department': 'Sound', 'job': 'Scoring Mixer'}, {'adult': False, 'gender': 1, 'id': 1424155, 'known_for_department': 'Sound', 'name': 'Petra Bach', 'original_name': 'Petra Bach', 'popularity': 1.95, 'profile_path': None, 'credit_id': '58bf3db7925141368b001495', 'department': 'Sound', 'job': 'ADR Supervisor'}, {'adult': False, 'gender': 0, 'id': 1432028, 'known_for_department': 'Production', 'name': 'Kokayi Ampah', 'original_name': 'Kokayi Ampah', 'popularity': 1.021, 'profile_path': None, 'credit_id': '58bf3d87c3a368513b001340', 'department': 'Production', 'job': 'Location Manager'}, {'adult': False, 'gender': 0, 'id': 1432028, 'known_for_department': 'Production', 'name': 'Kokayi Ampah', 'original_name': 'Kokayi Ampah', 'popularity': 1.021, 'profile_path': None, 'credit_id': '5745ce219251416594000d77', 'department': 'Production', 'job': 'Production Supervisor'}, {'adult': False, 'gender': 2, 'id': 1455403, 'known_for_department': 'Sound', 'name': 'John Stacy', 'original_name': 'John Stacy', 'popularity': 1.4, 'profile_path': None, 'credit_id': '58bf3e7fc3a3685121001476', 'department': 'Sound', 'job': 'Supervising Sound Editor'}, {'adult': False, 'gender': 0, 'id': 1464521, 'known_for_department': 'Lighting', 'name': 'Richie Ford', 'original_name': 'Richie Ford', 'popularity': 1.096, 'profile_path': None, 'credit_id': '5681e2239251412e52010596', 'department': 'Lighting', 'job': 'Rigging Gaffer'}, {'adult': False, 'gender': 0, 'id': 1470182, 'known_for_department': 'Costume & Make-Up', 'name': 'Roy Bryson', 'original_name': 'Roy Bryson', 'popularity': 0.6, 'profile_path': None, 'credit_id': '5745cdd89251413e5e002ef7', 'department': 'Costume & Make-Up', 'job': 'Hairstylist'}, {'adult': False, 'gender': 0, 'id': 1541839, 'known_for_department': 'Sound', 'name': 'Paul J. Zydel', 'original_name': 'Paul J. Zydel', 'popularity': 0.691, 'profile_path': None, 'credit_id': '565897f09251416dd30033bd', 'department': 'Sound', 'job': 'ADR & Dubbing'}, {'adult': False, 'gender': 2, 'id': 1546115, 'known_for_department': 'Sound', 'name': 'Willie D. Burton', 'original_name': 'Willie D. Burton', 'popularity': 1.353, 'profile_path': None, 'credit_id': '58bf3e2fc3a368515e0012ba', 'department': 'Sound', 'job': 'Production Sound Mixer'}, {'adult': False, 'gender': 2, 'id': 1549209, 'known_for_department': 'Sound', 'name': 'Thomas Pasatieri', 'original_name': 'Thomas Pasatieri', 'popularity': 0.6, 'profile_path': None, 'credit_id': '58bf3e169251413649001545', 'department': 'Sound', 'job': 'Orchestrator'}, {'adult': False, 'gender': 2, 'id': 1551320, 'known_for_department': 'Sound', 'name': 'Jack Keller', 'original_name': 'Jack Keller', 'popularity': 0.627, 'profile_path': None, 'credit_id': '5ad283a2c3a3683ef5019295', 'department': 'Sound', 'job': 'Sound Recordist'}, {'adult': False, 'gender': 0, 'id': 1558250, 'known_for_department': 'Editing', 'name': 'Robert C. Lusted', 'original_name': 'Robert C. Lusted', 'popularity': 0.628, 'profile_path': None, 'credit_id': '570156b1925141607a0002c1', 'department': 'Editing', 'job': 'Assistant Editor'}, {'adult': False, 'gender': 0, 'id': 1573081, 'known_for_department': 'Camera', 'name': 'Andy Harris', 'original_name': 'Andy Harris', 'popularity': 0.61, 'profile_path': None, 'credit_id': '5c7c6a790e0a2605310dc27f', 'department': 'Camera', 'job': 'Second Assistant Camera'}, {'adult': False, 'gender': 0, 'id': 1611791, 'known_for_department': 'Crew', 'name': 'Alan Jacques', 'original_name': 'Alan Jacques', 'popularity': 1.251, 'profile_path': None, 'credit_id': '58bf3bf992514136770012d9', 'department': 'Crew', 'job': 'Projection'}, {'adult': False, 'gender': 0, 'id': 1621232, 'known_for_department': 'Crew', 'name': 'Earl F. Betts', 'original_name': 'Earl F. Betts', 'popularity': 0.652, 'profile_path': None, 'credit_id': '58bf3c0ec3a36851820011ef', 'department': 'Crew', 'job': 'Propmaker'}, {'adult': False, 'gender': 0, 'id': 1637031, 'known_for_department': 'Sound', 'name': 'Arlene Fishbach', 'original_name': 'Arlene Fishbach', 'popularity': 0.6, 'profile_path': None, 'credit_id': '5c7c6ae4c3a3684a951760ea', 'department': 'Sound', 'job': 'Music Consultant'}, {'adult': False, 'gender': 0, 'id': 1712066, 'known_for_department': 'Camera', 'name': 'Michael P. Weinstein', 'original_name': 'Michael P. Weinstein', 'popularity': 0.6, 'profile_path': None, 'credit_id': '58bf3b21925141367b001251', 'department': 'Camera', 'job': 'Still Photographer'}, {'adult': False, 'gender': 0, 'id': 1771822, 'known_for_department': 'Art', 'name': 'Rhonda Yeater', 'original_name': 'Rhonda Yeater', 'popularity': 0.6, 'profile_path': None, 'credit_id': '58bf3964c3a368515e000efd', 'department': 'Art', 'job': 'Art Department Assistant'}, {'adult': False, 'gender': 0, 'id': 1771823, 'known_for_department': 'Art', 'name': 'Jack Evans', 'original_name': 'Jack Evans', 'popularity': 0.6, 'profile_path': None, 'credit_id': '58bf39a9c3a368513b00104a', 'department': 'Art', 'job': 'Assistant Art Director'}, {'adult': False, 'gender': 0, 'id': 1771824, 'known_for_department': 'Art', 'name': 'Dixwell Stillman', 'original_name': 'Dixwell Stillman', 'popularity': 0.6, 'profile_path': None, 'credit_id': '58bf39ccc3a3685146000f91', 'department': 'Art', 'job': 'Construction Foreman'}, {'adult': False, 'gender': 0, 'id': 1771825, 'known_for_department': 'Art', 'name': 'Blair Gibeau', 'original_name': 'Blair Gibeau', 'popularity': 0.6, 'profile_path': None, 'credit_id': '58bf39ddc3a368516c001018', 'department': 'Art', 'job': 'Painter'}, {'adult': False, 'gender': 0, 'id': 1771827, 'known_for_department': 'Art', 'name': 'Todd Hatfield', 'original_name': 'Todd Hatfield', 'popularity': 0.6, 'profile_path': None, 'credit_id': '58bf3a7dc3a3685146001001', 'department': 'Art', 'job': 'Standby Painter'}, {'adult': False, 'gender': 2, 'id': 1771830, 'known_for_department': 'Camera', 'name': 'Robin Brown', 'original_name': 'Robin Brown', 'popularity': 0.6, 'profile_path': None, 'credit_id': '58bf3ad2c3a3685146001054', 'department': 'Camera', 'job': 'First Assistant Camera'}, {'adult': False, 'gender': 2, 'id': 1771831, 'known_for_department': 'Camera', 'name': 'Don Cerrone', 'original_name': 'Don Cerrone', 'popularity': 0.744, 'profile_path': None, 'credit_id': '58bf3ae4925141367b001229', 'department': 'Camera', 'job': 'Key Grip'}, {'adult': False, 'gender': 0, 'id': 1771832, 'known_for_department': 'Camera', 'name': 'Gerrit Dangremond', 'original_name': 'Gerrit Dangremond', 'popularity': 0.6, 'profile_path': None, 'credit_id': '58bf3b14925141367b001243', 'department': 'Camera', 'job': 'Steadicam Operator'}, {'adult': False, 'gender': 0, 'id': 1771834, 'known_for_department': 'Costume & Make-Up', 'name': 'Carol Buckler', 'original_name': 'Carol Buckler', 'popularity': 0.6, 'profile_path': None, 'credit_id': '58bf3b3fc3a3685182001149', 'department': 'Costume & Make-Up', 'job': 'Seamstress'}, {'adult': False, 'gender': 0, 'id': 1771836, 'known_for_department': 'Costume & Make-Up', 'name': 'Jack Hering', 'original_name': 'Jack Hering', 'popularity': 0.6, 'profile_path': None, 'credit_id': '58bf3b57c3a3685152001106', 'department': 'Costume & Make-Up', 'job': 'Set Dressing Artist'}, {'adult': False, 'gender': 0, 'id': 1771838, 'known_for_department': 'Costume & Make-Up', 'name': 'Paul Wells', 'original_name': 'Paul Wells', 'popularity': 0.722, 'profile_path': None, 'credit_id': '5c7c699ec3a36843ed17502d', 'department': 'Costume & Make-Up', 'job': 'Key Costumer'}, {'adult': False, 'gender': 0, 'id': 1771839, 'known_for_department': 'Crew', 'name': 'Brian Boggs', 'original_name': 'Brian Boggs', 'popularity': 0.6, 'profile_path': None, 'credit_id': '58bf3b9a925141367b0012b7', 'department': 'Crew', 'job': 'Craft Service'}, {'adult': False, 'gender': 0, 'id': 1771840, 'known_for_department': 'Crew', 'name': 'Robert Conrad', 'original_name': 'Robert Conrad', 'popularity': 0.6, 'profile_path': None, 'credit_id': '58bf3badc3a368517700115e', 'department': 'Crew', 'job': 'Driver'}, {'adult': False, 'gender': 0, 'id': 1771841, 'known_for_department': 'Crew', 'name': 'Dan Goldwasser', 'original_name': 'Dan Goldwasser', 'popularity': 0.601, 'profile_path': None, 'credit_id': '58bf3bbcc3a368516c00114e', 'department': 'Crew', 'job': 'Executive Music Producer'}, {'adult': False, 'gender': 0, 'id': 1771842, 'known_for_department': 'Crew', 'name': 'Hope A. Nielsen', 'original_name': 'Hope A. Nielsen', 'popularity': 0.6, 'profile_path': None, 'credit_id': '58bf3bcac3a3685177001174', 'department': 'Crew', 'job': 'Loader'}, {'adult': False, 'gender': 0, 'id': 1771843, 'known_for_department': 'Crew', 'name': 'Mario Simon', 'original_name': 'Mario Simon', 'popularity': 0.861, 'profile_path': None, 'credit_id': '58bf3bdac3a3685146001109', 'department': 'Crew', 'job': 'Picture Car Coordinator'}, {'adult': False, 'gender': 0, 'id': 1771844, 'known_for_department': 'Production', 'name': 'Beth Hickman', 'original_name': 'Beth Hickman', 'popularity': 0.6, 'profile_path': None, 'credit_id': '58bf3becc3a368515200118b', 'department': 'Production', 'job': 'Production Office Coordinator'}, {'adult': False, 'gender': 0, 'id': 1771847, 'known_for_department': 'Art', 'name': 'Tom Shaw Jr.', 'original_name': 'Tom Shaw Jr.', 'popularity': 1.176, 'profile_path': None, 'credit_id': '58bf3c21c3a368513b00121c', 'department': 'Art', 'job': 'Property Master'}, {'adult': False, 'gender': 0, 'id': 1771855, 'known_for_department': 'Crew', 'name': 'Van Scarboro', 'original_name': 'Van Scarboro', 'popularity': 0.832, 'profile_path': None, 'credit_id': '58bf3cd8c3a368515e0011ab', 'department': 'Crew', 'job': 'Video Assist Operator'}, {'adult': False, 'gender': 0, 'id': 1771858, 'known_for_department': 'Editing', 'name': 'Patricia A. Galvin', 'original_name': 'Patricia A. Galvin', 'popularity': 0.6, 'profile_path': None, 'credit_id': '58bf3d1dc3a368515200129d', 'department': 'Editing', 'job': 'First Assistant Editor'}, {'adult': False, 'gender': 0, 'id': 1771859, 'known_for_department': 'Lighting', 'name': 'Kurt Dale Hartman', 'original_name': 'Kurt Dale Hartman', 'popularity': 0.6, 'profile_path': None, 'credit_id': '58bf3d56c3a36851520012d7', 'department': 'Lighting', 'job': 'Electrician'}, {'adult': False, 'gender': 0, 'id': 1771861, 'known_for_department': 'Lighting', 'name': 'Rex Buckingham', 'original_name': 'Rex Buckingham', 'popularity': 0.6, 'profile_path': None, 'credit_id': '58bf3d74c3a36851520012f6', 'department': 'Lighting', 'job': 'Rigging Grip'}, {'adult': False, 'gender': 1, 'id': 1771862, 'known_for_department': 'Production', 'name': 'Ramona Sánchez-Waggoner', 'original_name': 'Ramona Sánchez-Waggoner', 'popularity': 0.828, 'profile_path': None, 'credit_id': '58bf3d9cc3a3685152001316', 'department': 'Production', 'job': 'Production Accountant'}, {'adult': False, 'gender': 1, 'id': 1771862, 'known_for_department': 'Production', 'name': 'Ramona Sánchez-Waggoner', 'original_name': 'Ramona Sánchez-Waggoner', 'popularity': 0.828, 'profile_path': None, 'credit_id': '5a85ebd1c3a368637c028b7b', 'department': 'Crew', 'job': 'Production Office Assistant'}, {'adult': False, 'gender': 1, 'id': 1771862, 'known_for_department': 'Production', 'name': 'Ramona Sánchez-Waggoner', 'original_name': 'Ramona Sánchez-Waggoner', 'popularity': 0.828, 'profile_path': None, 'credit_id': '5a85ed17c3a36863e7028375', 'department': 'Crew', 'job': 'Executive in Charge of Finance'}, {'adult': False, 'gender': 0, 'id': 1771864, 'known_for_department': 'Sound', 'name': 'Lori Martino', 'original_name': 'Lori Martino', 'popularity': 0.73, 'profile_path': None, 'credit_id': '58bf3ddec3a368515e001289', 'department': 'Sound', 'job': 'Assistant Sound Editor'}, {'adult': False, 'gender': 2, 'id': 1771867, 'known_for_department': 'Crew', 'name': 'Dennis Baker', 'original_name': 'Dennis Baker', 'popularity': 0.6, 'profile_path': None, 'credit_id': '58bf3ebe92514136770014e4', 'department': 'Crew', 'job': 'Thanks'}, {'adult': False, 'gender': 0, 'id': 1820906, 'known_for_department': 'Costume & Make-Up', 'name': 'Donnie McFinely', 'original_name': 'Donnie McFinely', 'popularity': 0.686, 'profile_path': None, 'credit_id': '5c7c6955c3a3684a95175e73', 'department': 'Costume & Make-Up', 'job': 'Costumer'}, {'adult': False, 'gender': 0, 'id': 1881627, 'known_for_department': 'Directing', 'name': 'James Ellis Deakins', 'original_name': 'James Ellis Deakins', 'popularity': 0.732, 'profile_path': None, 'credit_id': '5a85ed959251410a1f028311', 'department': 'Directing', 'job': 'Script Supervisor'}, {'adult': False, 'gender': 0, 'id': 1884260, 'known_for_department': 'Crew', 'name': 'Joe Schultz', 'original_name': 'Joe Schultz', 'popularity': 0.6, 'profile_path': None, 'credit_id': '5a85ec050e0a2653b302936f', 'department': 'Crew', 'job': 'Production Office Assistant'}, {'adult': False, 'gender': 1, 'id': 1904511, 'known_for_department': 'Production', 'name': 'Margaret J. Orlando', 'original_name': 'Margaret J. Orlando', 'popularity': 1.019, 'profile_path': None, 'credit_id': '5a85ec2dc3a36862e10290e6', 'department': 'Production', 'job': 'Production Supervisor'}, {'adult': False, 'gender': 0, 'id': 1924139, 'known_for_department': 'Sound', 'name': 'Shelley Rae Hinton', 'original_name': 'Shelley Rae Hinton', 'popularity': 0.6, 'profile_path': None, 'credit_id': '5c7c69aa0e0a2632130dbd02', 'department': 'Sound', 'job': 'ADR Editor'}, {'adult': False, 'gender': 0, 'id': 1978728, 'known_for_department': 'Crew', 'name': 'Kzar Torres', 'original_name': 'Kzar Torres', 'popularity': 0.6, 'profile_path': None, 'credit_id': '5a85e9fd925141759302c037', 'department': 'Crew', 'job': 'Thanks'}, {'adult': False, 'gender': 0, 'id': 1978729, 'known_for_department': 'Crew', 'name': 'Lee Tassef', 'original_name': 'Lee Tassef', 'popularity': 1.38, 'profile_path': None, 'credit_id': '5a85ea130e0a26540c02778a', 'department': 'Crew', 'job': 'Thanks'}, {'adult': False, 'gender': 0, 'id': 1978730, 'known_for_department': 'Crew', 'name': 'Eve Lapolla', 'original_name': 'Eve Lapolla', 'popularity': 1.004, 'profile_path': None, 'credit_id': '5a85ea299251410a89028334', 'department': 'Crew', 'job': 'Thanks'}, {'adult': False, 'gender': 0, 'id': 1978731, 'known_for_department': 'Crew', 'name': 'Richard Hall', 'original_name': 'Richard Hall', 'popularity': 0.6, 'profile_path': None, 'credit_id': '5a85ea5e0e0a26545302b373', 'department': 'Crew', 'job': 'Thanks'}, {'adult': False, 'gender': 0, 'id': 1978732, 'known_for_department': 'Crew', 'name': 'Allen Greene', 'original_name': 'Allen Greene', 'popularity': 0.754, 'profile_path': None, 'credit_id': '5a85ea880e0a26545302b3c9', 'department': 'Crew', 'job': 'In Memory Of'}, {'adult': False, 'gender': 0, 'id': 1978733, 'known_for_department': 'Crew', 'name': 'Manny Centeno', 'original_name': 'Manny Centeno', 'popularity': 0.6, 'profile_path': None, 'credit_id': '5a85ea9c9251410a89028430', 'department': 'Crew', 'job': 'Thanks'}, {'adult': False, 'gender': 0, 'id': 1978734, 'known_for_department': 'Crew', 'name': 'Saxon Eldridge', 'original_name': 'Saxon Eldridge', 'popularity': 0.6, 'profile_path': None, 'credit_id': '5a85eb2f0e0a2653db02bd28', 'department': 'Crew', 'job': 'Production Office Assistant'}, {'adult': False, 'gender': 0, 'id': 1978735, 'known_for_department': 'Crew', 'name': 'Michael Vasquez', 'original_name': 'Michael Vasquez', 'popularity': 0.6, 'profile_path': None, 'credit_id': '5a85eba90e0a26545302b67e', 'department': 'Crew', 'job': 'Production Office Assistant'}, {'adult': False, 'gender': 0, 'id': 1978736, 'known_for_department': 'Crew', 'name': 'Amie Tschappat', 'original_name': 'Amie Tschappat', 'popularity': 0.665, 'profile_path': None, 'credit_id': '5a85ebbac3a36863e7028108', 'department': 'Crew', 'job': 'Production Office Assistant'}, {'adult': False, 'gender': 0, 'id': 1978737, 'known_for_department': 'Crew', 'name': 'Don Speakman', 'original_name': 'Don Speakman', 'popularity': 0.964, 'profile_path': None, 'credit_id': '5a85ebe80e0a26400b02d371', 'department': 'Crew', 'job': 'Craft Service'}, {'adult': False, 'gender': 0, 'id': 1978738, 'known_for_department': 'Crew', 'name': 'Mark Moelter', 'original_name': 'Mark Moelter', 'popularity': 0.6, 'profile_path': None, 'credit_id': '5a85ec3e0e0a2652ab028dbc', 'department': 'Crew', 'job': 'Craft Service'}, {'adult': False, 'gender': 0, 'id': 1978739, 'known_for_department': 'Crew', 'name': 'David McQuade', 'original_name': 'David McQuade', 'popularity': 0.6, 'profile_path': None, 'credit_id': '5a85ec7fc3a36862a7027114', 'department': 'Crew', 'job': 'Set Production Assistant'}, {'adult': False, 'gender': 0, 'id': 1978740, 'known_for_department': 'Crew', 'name': 'Karin Mercurio', 'original_name': 'Karin Mercurio', 'popularity': 0.652, 'profile_path': None, 'credit_id': '5a85ed039251410ac4027db0', 'department': 'Crew', 'job': 'Executive in Charge of Finance'}, {'adult': False, 'gender': 0, 'id': 1978742, 'known_for_department': 'Crew', 'name': 'Sophia Xixis', 'original_name': 'Sophia Xixis', 'popularity': 0.707, 'profile_path': None, 'credit_id': '5a85ed6c0e0a26535a028e90', 'department': 'Crew', 'job': \"Actor's Assistant\"}, {'adult': False, 'gender': 0, 'id': 1978744, 'known_for_department': 'Production', 'name': 'Jane Estocin', 'original_name': 'Jane Estocin', 'popularity': 0.6, 'profile_path': None, 'credit_id': '5a85ed80c3a36863e7028443', 'department': 'Production', 'job': 'Finance'}, {'adult': False, 'gender': 0, 'id': 1978745, 'known_for_department': 'Crew', 'name': 'Therese Amadio', 'original_name': 'Therese Amadio', 'popularity': 0.6, 'profile_path': None, 'credit_id': '5a85ee24925141759902b82e', 'department': 'Crew', 'job': 'Animal Wrangler'}, {'adult': False, 'gender': 0, 'id': 1978746, 'known_for_department': 'Crew', 'name': 'Chip Vincent', 'original_name': 'Chip Vincent', 'popularity': 0.6, 'profile_path': None, 'credit_id': '5a85ee4e925141759302c858', 'department': 'Crew', 'job': 'Driver'}, {'adult': False, 'gender': 2, 'id': 1978749, 'known_for_department': 'Crew', 'name': 'David Turner', 'original_name': 'David Turner', 'popularity': 0.6, 'profile_path': None, 'credit_id': '5a85ee63c3a36862e10294c5', 'department': 'Crew', 'job': 'Driver'}, {'adult': False, 'gender': 0, 'id': 1978751, 'known_for_department': 'Crew', 'name': 'J.D. Thomas', 'original_name': 'J.D. Thomas', 'popularity': 0.6, 'profile_path': None, 'credit_id': '5a85ee77c3a368637c029052', 'department': 'Crew', 'job': 'Driver'}, {'adult': False, 'gender': 0, 'id': 1978754, 'known_for_department': 'Crew', 'name': 'Donald Snyder', 'original_name': 'Donald Snyder', 'popularity': 0.6, 'profile_path': None, 'credit_id': '5a85ee95c3a36863e7028626', 'department': 'Crew', 'job': 'Driver'}, {'adult': False, 'gender': 0, 'id': 1978756, 'known_for_department': 'Crew', 'name': 'Scott Ruetenik', 'original_name': 'Scott Ruetenik', 'popularity': 0.732, 'profile_path': None, 'credit_id': '5a85eec0c3a368637c0290cf', 'department': 'Crew', 'job': 'Driver'}, {'adult': False, 'gender': 2, 'id': 1994224, 'known_for_department': 'Sound', 'name': \"Thomas J. O'Connell\", 'original_name': \"Thomas J. O'Connell\", 'popularity': 1.291, 'profile_path': None, 'credit_id': '5c7c69b892514137b7469191', 'department': 'Sound', 'job': 'ADR Mixer'}, {'adult': False, 'gender': 2, 'id': 2063034, 'known_for_department': 'Crew', 'name': 'David Smith', 'original_name': 'David Smith', 'popularity': 0.6, 'profile_path': None, 'credit_id': '5b2019eb9251416e0b00288c', 'department': 'Crew', 'job': 'Driver'}, {'adult': False, 'gender': 2, 'id': 2095763, 'known_for_department': 'Costume & Make-Up', 'name': 'Philip Ivey', 'original_name': 'Philip Ivey', 'popularity': 1.566, 'profile_path': None, 'credit_id': '5b5f29a0c3a3684221056763', 'department': 'Costume & Make-Up', 'job': 'Key Hair Stylist'}, {'adult': False, 'gender': 0, 'id': 2158129, 'known_for_department': 'Camera', 'name': 'Keith Bunting', 'original_name': 'Keith Bunting', 'popularity': 0.861, 'profile_path': None, 'credit_id': '5c7c6a2f9251417b8446980b', 'department': 'Camera', 'job': 'Best Boy Grip'}, {'adult': False, 'gender': 2, 'id': 2226062, 'known_for_department': 'Sound', 'name': 'Bruce Bell', 'original_name': 'Bruce Bell', 'popularity': 1.007, 'profile_path': None, 'credit_id': '5c802b98c3a3684e8cd467d6', 'department': 'Sound', 'job': 'Sound Editor'}, {'adult': False, 'gender': 2, 'id': 2231423, 'known_for_department': 'Crew', 'name': 'A. Michael Lerner', 'original_name': 'A. Michael Lerner', 'popularity': 1.786, 'profile_path': '/1HyZkavpHSC6AqyurndBXrvLZ8Z.jpg', 'credit_id': '5c536f3ec3a36847779acc7e', 'department': 'Crew', 'job': 'Stunts'}, {'adult': False, 'gender': 0, 'id': 2243523, 'known_for_department': 'Production', 'name': 'Kelley Baker', 'original_name': 'Kelley Baker', 'popularity': 0.6, 'profile_path': None, 'credit_id': '60846b168d22fc0058bd7c37', 'department': 'Crew', 'job': 'Executive in Charge of Finance'}, {'adult': False, 'gender': 0, 'id': 2256672, 'known_for_department': 'Costume & Make-Up', 'name': 'Kris Kearney', 'original_name': 'Kris Kearney', 'popularity': 0.6, 'profile_path': None, 'credit_id': '5c7c696792514175a2469b3e', 'department': 'Costume & Make-Up', 'job': 'Key Costumer'}, {'adult': False, 'gender': 0, 'id': 2256673, 'known_for_department': 'Directing', 'name': 'Michael Greenwood', 'original_name': 'Michael Greenwood', 'popularity': 0.655, 'profile_path': None, 'credit_id': '5c7c6973c3a3687117174d84', 'department': 'Directing', 'job': 'Second Second Assistant Director'}, {'adult': False, 'gender': 0, 'id': 2256674, 'known_for_department': 'Sound', 'name': 'Ron Grafton', 'original_name': 'Ron Grafton', 'popularity': 0.674, 'profile_path': None, 'credit_id': '5c7c6a00c3a36843ed175078', 'department': 'Sound', 'job': 'Foley Recordist'}, {'adult': False, 'gender': 0, 'id': 2256676, 'known_for_department': 'Camera', 'name': 'David Moenkhaus', 'original_name': 'David Moenkhaus', 'popularity': 0.6, 'profile_path': None, 'credit_id': '5c7c6a259251415147469e37', 'department': 'Camera', 'job': 'Additional Second Assistant Camera'}, {'adult': False, 'gender': 0, 'id': 2256677, 'known_for_department': 'Production', 'name': 'Julie Weiss', 'original_name': 'Julie Weiss', 'popularity': 0.6, 'profile_path': None, 'credit_id': '5c7c6a95c3a3687117174f61', 'department': 'Production', 'job': 'Casting Assistant'}, {'adult': False, 'gender': 0, 'id': 2256678, 'known_for_department': 'Costume & Make-Up', 'name': 'Cookie Beard', 'original_name': 'Cookie Beard', 'popularity': 0.781, 'profile_path': None, 'credit_id': '5c7c6aa1c3a36849831765eb', 'department': 'Costume & Make-Up', 'job': 'Wardrobe Assistant'}, {'adult': False, 'gender': 0, 'id': 2256679, 'known_for_department': 'Production', 'name': 'Chris Cozzi', 'original_name': 'Chris Cozzi', 'popularity': 0.6, 'profile_path': None, 'credit_id': '5c7c6ac90e0a2632290dc731', 'department': 'Production', 'job': 'Location Assistant'}, {'adult': False, 'gender': 0, 'id': 3617947, 'known_for_department': 'Camera', 'name': 'Tim.L.armstutz', 'original_name': 'Tim.L.armstutz', 'popularity': 0.6, 'profile_path': None, 'credit_id': '62c9dd6464de3500550983f7', 'department': 'Camera', 'job': 'Camera Department Production Assistant'}]\n",
      "[{'adult': False, 'gender': 2, 'id': 154, 'known_for_department': 'Editing', 'name': 'Walter Murch', 'original_name': 'Walter Murch', 'popularity': 3.167, 'profile_path': '/kQh7U7kRLF9NKEMpxiGjZEIu0o3.jpg', 'credit_id': '5a773d1f9251417763000e61', 'department': 'Sound', 'job': 'Sound Re-Recording Mixer'}, {'adult': False, 'gender': 2, 'id': 154, 'known_for_department': 'Editing', 'name': 'Walter Murch', 'original_name': 'Walter Murch', 'popularity': 3.167, 'profile_path': '/kQh7U7kRLF9NKEMpxiGjZEIu0o3.jpg', 'credit_id': '5a773d0e0e0a26598b001060', 'department': 'Sound', 'job': 'Sound Montage Associate'}, {'adult': False, 'gender': 2, 'id': 1776, 'known_for_department': 'Directing', 'name': 'Francis Ford Coppola', 'original_name': 'Francis Ford Coppola', 'popularity': 8.922, 'profile_path': '/mGKkVp3l9cipPt10AqoQnwaPrfI.jpg', 'credit_id': '5e9251c384448e00128f09b1', 'department': 'Writing', 'job': 'Screenplay'}, {'adult': False, 'gender': 2, 'id': 1776, 'known_for_department': 'Directing', 'name': 'Francis Ford Coppola', 'original_name': 'Francis Ford Coppola', 'popularity': 8.922, 'profile_path': '/mGKkVp3l9cipPt10AqoQnwaPrfI.jpg', 'credit_id': '5e92517a8e87020016cb1d0e', 'department': 'Directing', 'job': 'Director'}, {'adult': False, 'gender': 2, 'id': 1776, 'known_for_department': 'Directing', 'name': 'Francis Ford Coppola', 'original_name': 'Francis Ford Coppola', 'popularity': 8.922, 'profile_path': '/mGKkVp3l9cipPt10AqoQnwaPrfI.jpg', 'credit_id': '52fe422bc3a36847f80094e3', 'department': 'Production', 'job': 'Producer'}, {'adult': False, 'gender': 2, 'id': 2870, 'known_for_department': 'Production', 'name': 'Gray Frederickson', 'original_name': 'Gray Frederickson', 'popularity': 2.905, 'profile_path': None, 'credit_id': '52fe422bc3a36847f80094e9', 'department': 'Production', 'job': 'Producer'}, {'adult': False, 'gender': 2, 'id': 2871, 'known_for_department': 'Production', 'name': 'Fred Roos', 'original_name': 'Fred Roos', 'popularity': 3.678, 'profile_path': '/qfXLY5E589l0TQnoayWmUrBDsgo.jpg', 'credit_id': '52fe422bc3a36847f80094ef', 'department': 'Production', 'job': 'Producer'}, {'adult': False, 'gender': 0, 'id': 3170, 'known_for_department': 'Production', 'name': 'Mona Skager', 'original_name': 'Mona Skager', 'popularity': 0.6, 'profile_path': None, 'credit_id': '52fe422bc3a36847f80094f5', 'department': 'Production', 'job': 'Producer'}, {'adult': False, 'gender': 2, 'id': 2872, 'known_for_department': 'Sound', 'name': 'Carmine Coppola', 'original_name': 'Carmine Coppola', 'popularity': 3.961, 'profile_path': '/iURpKXIgdtQoVCBQ8GKGvb0Qw5z.jpg', 'credit_id': '52fe422bc3a36847f8009535', 'department': 'Sound', 'job': 'Original Music Composer'}, {'adult': False, 'gender': 2, 'id': 3176, 'known_for_department': 'Production', 'name': 'Vic Ramos', 'original_name': 'Vic Ramos', 'popularity': 1.4, 'profile_path': None, 'credit_id': '52fe422bc3a36847f8009565', 'department': 'Production', 'job': 'Casting'}, {'adult': False, 'gender': 2, 'id': 2875, 'known_for_department': 'Art', 'name': 'Dean Tavoularis', 'original_name': 'Dean Tavoularis', 'popularity': 5.116, 'profile_path': '/hrRBaXUn2k29qd1MvAxuag5L32c.jpg', 'credit_id': '52fe422bc3a36847f8009541', 'department': 'Art', 'job': 'Production Design'}, {'adult': False, 'gender': 2, 'id': 794, 'known_for_department': 'Art', 'name': 'Angelo P. Graham', 'original_name': 'Angelo P. Graham', 'popularity': 1.4, 'profile_path': None, 'credit_id': '57471cb39251415f60002932', 'department': 'Art', 'job': 'Art Direction'}, {'adult': False, 'gender': 2, 'id': 8339, 'known_for_department': 'Art', 'name': 'George R. Nelson', 'original_name': 'George R. Nelson', 'popularity': 1.283, 'profile_path': None, 'credit_id': '57471d159251415e5d002c69', 'department': 'Art', 'job': 'Set Decoration'}, {'adult': False, 'gender': 1, 'id': 597, 'known_for_department': 'Production', 'name': 'Jane Feinberg', 'original_name': 'Jane Feinberg', 'popularity': 3.143, 'profile_path': None, 'credit_id': '52fe422bc3a36847f8009559', 'department': 'Production', 'job': 'Casting'}, {'adult': False, 'gender': 2, 'id': 598, 'known_for_department': 'Production', 'name': 'Mike Fenton', 'original_name': 'Mike Fenton', 'popularity': 1.553, 'profile_path': None, 'credit_id': '52fe422bc3a36847f800955f', 'department': 'Production', 'job': 'Casting'}, {'adult': False, 'gender': 2, 'id': 2988, 'known_for_department': 'Editing', 'name': 'Barry Malkin', 'original_name': 'Barry Malkin', 'popularity': 2.062, 'profile_path': None, 'credit_id': '52fe422bc3a36847f8009547', 'department': 'Editing', 'job': 'Editor'}, {'adult': False, 'gender': 2, 'id': 3083, 'known_for_department': 'Writing', 'name': 'Mario Puzo', 'original_name': 'Mario Puzo', 'popularity': 5.142, 'profile_path': '/lEsT1uCZAZg1nYDQe3Fsj9CalzT.jpg', 'credit_id': '52fe422bc3a36847f80094fb', 'department': 'Writing', 'job': 'Novel'}, {'adult': False, 'gender': 2, 'id': 3085, 'known_for_department': 'Acting', 'name': 'James Caan', 'original_name': 'James Caan', 'popularity': 23.575, 'profile_path': '/bGyOCCOIgcIyKjOGLoXoyp0XWHf.jpg', 'credit_id': '57472235c3a36839df000077', 'department': 'Crew', 'job': 'Thanks'}, {'adult': False, 'gender': 2, 'id': 3097, 'known_for_department': 'Camera', 'name': 'Gordon Willis', 'original_name': 'Gordon Willis', 'popularity': 2.194, 'profile_path': '/6gOmfatlF7UdhaHi2tPsZMb5vmz.jpg', 'credit_id': '52fe422bc3a36847f800952f', 'department': 'Camera', 'job': 'Director of Photography'}, {'adult': False, 'gender': 2, 'id': 3098, 'known_for_department': 'Sound', 'name': 'Nino Rota', 'original_name': 'Nino Rota', 'popularity': 6.266, 'profile_path': '/v42v3uM7jqwoZxDJ8MlEtT6Ol7a.jpg', 'credit_id': '52fe422bc3a36847f800953b', 'department': 'Sound', 'job': 'Original Music Composer'}, {'adult': False, 'gender': 2, 'id': 3100, 'known_for_department': 'Editing', 'name': 'Peter Zinner', 'original_name': 'Peter Zinner', 'popularity': 2.321, 'profile_path': None, 'credit_id': '52fe422bc3a36847f8009553', 'department': 'Editing', 'job': 'Editor'}, {'adult': False, 'gender': 2, 'id': 3102, 'known_for_department': 'Sound', 'name': 'Howard Beals', 'original_name': 'Howard Beals', 'popularity': 0.6, 'profile_path': None, 'credit_id': '52fe422bc3a36847f800956b', 'department': 'Sound', 'job': 'Sound Effects Editor'}, {'adult': False, 'gender': 2, 'id': 3175, 'known_for_department': 'Editing', 'name': 'Richard Marks', 'original_name': 'Richard Marks', 'popularity': 0.74, 'profile_path': None, 'credit_id': '52fe422bc3a36847f800954d', 'department': 'Editing', 'job': 'Editor'}, {'adult': False, 'gender': 2, 'id': 3177, 'known_for_department': 'Sound', 'name': 'Mark Berger', 'original_name': 'Mark Berger', 'popularity': 0.693, 'profile_path': None, 'credit_id': '52fe422bc3a36847f8009571', 'department': 'Sound', 'job': 'Sound Montage Associate'}, {'adult': False, 'gender': 2, 'id': 3178, 'known_for_department': 'Sound', 'name': 'Nathan Boxer', 'original_name': 'Nathan Boxer', 'popularity': 1.124, 'profile_path': None, 'credit_id': '52fe422bc3a36847f8009577', 'department': 'Sound', 'job': 'Production Sound Mixer'}, {'adult': False, 'gender': 0, 'id': 3179, 'known_for_department': 'Sound', 'name': 'George Brand', 'original_name': 'George Brand', 'popularity': 0.6, 'profile_path': None, 'credit_id': '52fe422bc3a36847f800957d', 'department': 'Sound', 'job': 'Music Editor'}, {'adult': False, 'gender': 2, 'id': 4506, 'known_for_department': 'Production', 'name': 'James D. Brubaker', 'original_name': 'James D. Brubaker', 'popularity': 4.347, 'profile_path': None, 'credit_id': '574720c79251412b3e000059', 'department': 'Crew', 'job': 'Transportation Captain'}, {'adult': False, 'gender': 2, 'id': 18373, 'known_for_department': 'Camera', 'name': 'Ralph Gerling', 'original_name': 'Ralph Gerling', 'popularity': 0.679, 'profile_path': None, 'credit_id': '56cf3dda9251413e62003001', 'department': 'Camera', 'job': 'Camera Operator'}, {'adult': False, 'gender': 2, 'id': 6099, 'known_for_department': 'Production', 'name': 'Valerio De Paolis', 'original_name': 'Valerio De Paolis', 'popularity': 0.614, 'profile_path': '/rbsYkbJPgQAMuFY71RYrYatdXWT.jpg', 'credit_id': '563e3d519251416cd8003e2d', 'department': 'Production', 'job': 'Production Supervisor'}, {'adult': False, 'gender': 1, 'id': 6455, 'known_for_department': 'Costume & Make-Up', 'name': 'Theadora Van Runkle', 'original_name': 'Theadora Van Runkle', 'popularity': 1.4, 'profile_path': None, 'credit_id': '5a773cdec3a368224e000e64', 'department': 'Costume & Make-Up', 'job': 'Costume Design'}, {'adult': False, 'gender': 0, 'id': 8591, 'known_for_department': 'Acting', 'name': 'Ted Grossman', 'original_name': 'Ted Grossman', 'popularity': 5.351, 'profile_path': '/2L7S57LmXg1EFwVOkI06JS5oAhM.jpg', 'credit_id': '57471f4c9251412b47000019', 'department': 'Crew', 'job': 'Stunts'}, {'adult': False, 'gender': 2, 'id': 12288, 'known_for_department': 'Production', 'name': 'Robert Evans', 'original_name': 'Robert Evans', 'popularity': 1.234, 'profile_path': '/rCiTT2VrBKeHWdnHAyfGtMXs9go.jpg', 'credit_id': '57471c6ac3a36801a3000463', 'department': 'Production', 'job': 'Executive Producer'}, {'adult': False, 'gender': 2, 'id': 16654, 'known_for_department': 'Production', 'name': 'Michael S. Glick', 'original_name': 'Michael S. Glick', 'popularity': 1.96, 'profile_path': None, 'credit_id': '57471dc39251417694000543', 'department': 'Production', 'job': 'Production Manager'}, {'adult': False, 'gender': 0, 'id': 19254, 'known_for_department': 'Art', 'name': 'John Dapper', 'original_name': 'John Dapper', 'popularity': 0.6, 'profile_path': None, 'credit_id': '57471ce29251415f8c002a7d', 'department': 'Art', 'job': 'Art Direction'}, {'adult': False, 'gender': 2, 'id': 29654, 'known_for_department': 'Costume & Make-Up', 'name': 'Dick Smith', 'original_name': 'Dick Smith', 'popularity': 1.4, 'profile_path': '/kKCenlQ8iQCTLGfX8ZPpJFpxvwS.jpg', 'credit_id': '56a77044c3a36819da0030a1', 'department': 'Costume & Make-Up', 'job': 'Makeup Artist'}, {'adult': False, 'gender': 0, 'id': 81538, 'known_for_department': 'Crew', 'name': 'Wayne Fitzgerald', 'original_name': 'Wayne Fitzgerald', 'popularity': 0.6, 'profile_path': None, 'credit_id': '5695a8719251413f76000483', 'department': 'Crew', 'job': 'Title Graphics'}, {'adult': False, 'gender': 2, 'id': 70250, 'known_for_department': 'Directing', 'name': 'Newt Arnold', 'original_name': 'Newt Arnold', 'popularity': 3.572, 'profile_path': '/5zAuR4g84Gn19rilnaQSDN7AGXr.jpg', 'credit_id': '56cf3a4bc3a3681e57002da7', 'department': 'Directing', 'job': 'Assistant Director'}, {'adult': False, 'gender': 2, 'id': 91246, 'known_for_department': 'Crew', 'name': 'Chris Haynes', 'original_name': 'Chris Haynes', 'popularity': 0.755, 'profile_path': None, 'credit_id': '574721399251412b4d000068', 'department': 'Crew', 'job': 'Driver'}, {'adult': False, 'gender': 2, 'id': 96912, 'known_for_department': 'Crew', 'name': 'Joe Lombardi', 'original_name': 'Joe Lombardi', 'popularity': 1.358, 'profile_path': None, 'credit_id': '574485d8c3a36807640008d1', 'department': 'Crew', 'job': 'Special Effects'}, {'adult': False, 'gender': 0, 'id': 557873, 'known_for_department': 'Camera', 'name': 'Bob Rose', 'original_name': 'Bob Rose', 'popularity': 0.98, 'profile_path': None, 'credit_id': '5678ab96925141118300100d', 'department': 'Camera', 'job': 'Grip'}, {'adult': False, 'gender': 2, 'id': 1318751, 'known_for_department': 'Sound', 'name': 'Jerry Bock', 'original_name': 'Jerry Bock', 'popularity': 0.6, 'profile_path': None, 'credit_id': '5705427092514176010005c0', 'department': 'Sound', 'job': 'Additional Soundtrack'}, {'adult': False, 'gender': 2, 'id': 1343811, 'known_for_department': 'Production', 'name': 'Mario Cotone', 'original_name': 'Mario Cotone', 'popularity': 2.717, 'profile_path': None, 'credit_id': '57471d8c92514177b00013f1', 'department': 'Production', 'job': 'Unit Manager'}, {'adult': False, 'gender': 0, 'id': 1359894, 'known_for_department': 'Production', 'name': 'Burt Bluestein', 'original_name': 'Burt Bluestein', 'popularity': 0.6, 'profile_path': None, 'credit_id': '57471e0d9251417f4b0003e9', 'department': 'Directing', 'job': 'Assistant Director'}, {'adult': False, 'gender': 2, 'id': 1409008, 'known_for_department': 'Costume & Make-Up', 'name': 'Charles H. Schram', 'original_name': 'Charles H. Schram', 'popularity': 1.022, 'profile_path': '/fdY09ub1rX0yYh8qcPrWtQurpfi.jpg', 'credit_id': '56985c419251412546001488', 'department': 'Costume & Make-Up', 'job': 'Makeup Artist'}, {'adult': False, 'gender': 0, 'id': 1419935, 'known_for_department': 'Costume & Make-Up', 'name': 'Naomi Cavin', 'original_name': 'Naomi Cavin', 'popularity': 0.6, 'profile_path': None, 'credit_id': '56a7705a92514129f5002fed', 'department': 'Costume & Make-Up', 'job': 'Hairstylist'}, {'adult': False, 'gender': 0, 'id': 1427699, 'known_for_department': 'Directing', 'name': 'John Franco', 'original_name': 'John Franco', 'popularity': 0.634, 'profile_path': None, 'credit_id': '566b7a09c3a3682e98005c33', 'department': 'Directing', 'job': 'Script Supervisor'}, {'adult': False, 'gender': 1, 'id': 1469560, 'known_for_department': 'Crew', 'name': 'Eileen Peterson', 'original_name': 'Eileen Peterson', 'popularity': 1.008, 'profile_path': None, 'credit_id': '574dc0d7c3a36858bd0000a0', 'department': 'Crew', 'job': 'Unit Publicist'}, {'adult': False, 'gender': 0, 'id': 1511706, 'known_for_department': 'Sound', 'name': 'Charles M. Wilborn', 'original_name': 'Charles M. Wilborn', 'popularity': 1.435, 'profile_path': None, 'credit_id': '58e3cd81925141281902066f', 'department': 'Sound', 'job': 'Sound Recordist'}, {'adult': False, 'gender': 0, 'id': 1511713, 'known_for_department': 'Production', 'name': 'Jack English', 'original_name': 'Jack English', 'popularity': 0.6, 'profile_path': None, 'credit_id': '5e7be9864350113e61257d0f', 'department': 'Production', 'job': 'Location Coordinator'}, {'adult': False, 'gender': 0, 'id': 1518593, 'known_for_department': 'Directing', 'name': 'B.J. Bjorkman', 'original_name': 'B.J. Bjorkman', 'popularity': 0.84, 'profile_path': None, 'credit_id': '5751b60cc3a3683040000219', 'department': 'Directing', 'job': 'Script Supervisor'}, {'adult': False, 'gender': 0, 'id': 1535121, 'known_for_department': 'Lighting', 'name': 'George Holmes', 'original_name': 'George Holmes', 'popularity': 0.6, 'profile_path': None, 'credit_id': '5c6dd75992514120d504f307', 'department': 'Lighting', 'job': 'Gaffer'}, {'adult': False, 'gender': 2, 'id': 1625347, 'known_for_department': 'Directing', 'name': 'Tony Brandt', 'original_name': 'Tony Brandt', 'popularity': 0.6, 'profile_path': None, 'credit_id': '57447c8192514110fb00068e', 'department': 'Directing', 'job': 'Assistant Director'}, {'adult': False, 'gender': 0, 'id': 1626342, 'known_for_department': 'Crew', 'name': 'Hugh Kelly', 'original_name': 'Hugh Kelly', 'popularity': 0.6, 'profile_path': None, 'credit_id': '574721f49251412b43000095', 'department': 'Crew', 'job': 'Driver'}, {'adult': False, 'gender': 0, 'id': 1630221, 'known_for_department': 'Directing', 'name': 'Alan Hopkins', 'original_name': 'Alan Hopkins', 'popularity': 0.895, 'profile_path': None, 'credit_id': '5751b2cd9251412b0f0029a2', 'department': 'Directing', 'job': 'Assistant Director'}, {'adult': False, 'gender': 1, 'id': 2930663, 'known_for_department': 'Acting', 'name': 'Mona Houghton', 'original_name': 'Mona Houghton', 'popularity': 0.98, 'profile_path': None, 'credit_id': '5ffb1499a3b5e60040367dc2', 'department': 'Production', 'job': 'Location Assistant'}]\n",
      "[{'adult': False, 'gender': 1, 'id': 8311, 'known_for_department': 'Crew', 'name': 'Farah Khan', 'original_name': 'Farah Khan', 'popularity': 1.964, 'profile_path': '/yfmm3VIGRZ8RDRQ0pjn3Vizw6WC.jpg', 'credit_id': '57a3054a9251417c57000d7a', 'department': 'Crew', 'job': 'Choreographer'}, {'adult': False, 'gender': 2, 'id': 35770, 'known_for_department': 'Directing', 'name': 'Yash Chopra', 'original_name': 'Yash Chopra', 'popularity': 1.242, 'profile_path': '/uDthb94NlawtgRT8BKufFkZdJR5.jpg', 'credit_id': '57a304a39251410cd20008a5', 'department': 'Production', 'job': 'Producer'}, {'adult': False, 'gender': 2, 'id': 35771, 'known_for_department': 'Production', 'name': 'Aditya Chopra', 'original_name': 'Aditya Chopra', 'popularity': 1.438, 'profile_path': '/eXYKfA6bg12pn9LPrWeRfxYQwcb.jpg', 'credit_id': '57a3042b9251412769000193', 'department': 'Writing', 'job': 'Screenplay'}, {'adult': False, 'gender': 2, 'id': 35771, 'known_for_department': 'Production', 'name': 'Aditya Chopra', 'original_name': 'Aditya Chopra', 'popularity': 1.438, 'profile_path': '/eXYKfA6bg12pn9LPrWeRfxYQwcb.jpg', 'credit_id': '52fe47d69251416c750a71af', 'department': 'Directing', 'job': 'Director'}, {'adult': False, 'gender': 2, 'id': 35771, 'known_for_department': 'Production', 'name': 'Aditya Chopra', 'original_name': 'Aditya Chopra', 'popularity': 1.438, 'profile_path': '/eXYKfA6bg12pn9LPrWeRfxYQwcb.jpg', 'credit_id': '5d6a2a3a7776f0000f7387b8', 'department': 'Writing', 'job': 'Dialogue'}, {'adult': False, 'gender': 2, 'id': 35771, 'known_for_department': 'Production', 'name': 'Aditya Chopra', 'original_name': 'Aditya Chopra', 'popularity': 1.438, 'profile_path': '/eXYKfA6bg12pn9LPrWeRfxYQwcb.jpg', 'credit_id': '57a30453c3a3682fa700493f', 'department': 'Writing', 'job': 'Story'}, {'adult': False, 'gender': 1, 'id': 35740, 'known_for_department': 'Art', 'name': 'Sharmishta Roy', 'original_name': 'Sharmishta Roy', 'popularity': 3.196, 'profile_path': '/qCCd7KVlZzV1xxFoq9s6amiqSPF.jpg', 'credit_id': '57a304c1c3a368295b000dbb', 'department': 'Art', 'job': 'Art Direction'}, {'adult': False, 'gender': 2, 'id': 35736, 'known_for_department': 'Production', 'name': 'Karan Johar', 'original_name': 'Karan Johar', 'popularity': 2.322, 'profile_path': '/zip1x7OXOBxXxcdYvKOgw6MnAWm.jpg', 'credit_id': '5ca568780e0a265bd6b4e919', 'department': 'Costume & Make-Up', 'job': 'Costume Design'}, {'adult': False, 'gender': 2, 'id': 69709, 'known_for_department': 'Acting', 'name': 'Uday Chopra', 'original_name': 'Uday Chopra', 'popularity': 3.031, 'profile_path': '/bHmH00vJNavpf5BgSuBeUSPB9bj.jpg', 'credit_id': '57a304969251410cd20008a2', 'department': 'Production', 'job': 'Associate Producer'}, {'adult': False, 'gender': 0, 'id': 70849, 'known_for_department': 'Sound', 'name': 'Jatin Pandit', 'original_name': 'Jatin Pandit', 'popularity': 0.6, 'profile_path': None, 'credit_id': '6156822e1c632900428059e7', 'department': 'Sound', 'job': 'Original Music Composer'}, {'adult': False, 'gender': 2, 'id': 82079, 'known_for_department': 'Directing', 'name': 'Manmohan Singh', 'original_name': 'Manmohan Singh', 'popularity': 0.84, 'profile_path': None, 'credit_id': '5b34ebb59251413cab01b500', 'department': 'Camera', 'job': 'Director of Photography'}, {'adult': False, 'gender': 1, 'id': 108938, 'known_for_department': 'Sound', 'name': 'Asha Bhosle', 'original_name': 'Asha Bhosle', 'popularity': 1.015, 'profile_path': '/vOIKyZIMNHYkeOeGNxEqq2vKc5A.jpg', 'credit_id': '59133d719251414e89059263', 'department': 'Sound', 'job': 'Playback Singer'}, {'adult': False, 'gender': 2, 'id': 133179, 'known_for_department': 'Sound', 'name': 'Lalit Pandit', 'original_name': 'Lalit Pandit', 'popularity': 1.4, 'profile_path': None, 'credit_id': '61568236a4af8f0044c5125b', 'department': 'Sound', 'job': 'Original Music Composer'}, {'adult': False, 'gender': 2, 'id': 146970, 'known_for_department': 'Writing', 'name': 'Javed Siddiqui', 'original_name': 'Javed Siddiqui', 'popularity': 2.235, 'profile_path': None, 'credit_id': '57a3043c9251410c7d000919', 'department': 'Writing', 'job': 'Dialogue'}, {'adult': False, 'gender': 0, 'id': 565173, 'known_for_department': 'Editing', 'name': 'Keshav Naidu', 'original_name': 'Keshav Naidu', 'popularity': 0.652, 'profile_path': None, 'credit_id': '57a304739251417c57000d4c', 'department': 'Editing', 'job': 'Editor'}, {'adult': False, 'gender': 2, 'id': 927644, 'known_for_department': 'Writing', 'name': 'Anand Bakshi', 'original_name': 'Anand Bakshi', 'popularity': 0.6, 'profile_path': '/30cipBNZbhXg0VUYU1f3QhUmcor.jpg', 'credit_id': '61568257e18b97008c9bb4fa', 'department': 'Writing', 'job': 'Lyricist'}, {'adult': False, 'gender': 2, 'id': 1113618, 'known_for_department': 'Sound', 'name': 'Udit Narayan', 'original_name': 'Udit Narayan', 'popularity': 2.563, 'profile_path': '/2LYPkxyTqlIluiKzYnDMgM5o1Wq.jpg', 'credit_id': '59133d9f9251414e85057bf2', 'department': 'Sound', 'job': 'Playback Singer'}, {'adult': False, 'gender': 2, 'id': 1113619, 'known_for_department': 'Sound', 'name': 'Kumar Sanu', 'original_name': 'Kumar Sanu', 'popularity': 1.455, 'profile_path': '/sD1EDhA8vXiFPfvgY5JBo9Ym1ip.jpg', 'credit_id': '59133daa9251414e890592b7', 'department': 'Sound', 'job': 'Playback Singer'}, {'adult': False, 'gender': 0, 'id': 1148398, 'known_for_department': 'Crew', 'name': 'Saroj Khan', 'original_name': 'Saroj Khan', 'popularity': 0.705, 'profile_path': None, 'credit_id': '57a30553c3a3683fa7000a8a', 'department': 'Crew', 'job': 'Choreographer'}, {'adult': False, 'gender': 1, 'id': 1608033, 'known_for_department': 'Sound', 'name': 'Lata Mangeshkar', 'original_name': 'Lata Mangeshkar', 'popularity': 0.687, 'profile_path': '/1JgCDCQpi3KIasQykS3Bd0IHGpp.jpg', 'credit_id': '59133d959251414edb0584a9', 'department': 'Sound', 'job': 'Playback Singer'}, {'adult': False, 'gender': 0, 'id': 1661254, 'known_for_department': 'Writing', 'name': 'Pamela Chopra', 'original_name': 'Pamela Chopra', 'popularity': 0.65, 'profile_path': None, 'credit_id': '57a3048cc3a3682fa700494d', 'department': 'Production', 'job': 'Associate Producer'}, {'adult': False, 'gender': 0, 'id': 1661254, 'known_for_department': 'Writing', 'name': 'Pamela Chopra', 'original_name': 'Pamela Chopra', 'popularity': 0.65, 'profile_path': None, 'credit_id': '59133ddb9251414e85057c4c', 'department': 'Sound', 'job': 'Playback Singer'}, {'adult': False, 'gender': 0, 'id': 1661255, 'known_for_department': 'Production', 'name': 'Mahen Vakil', 'original_name': 'Mahen Vakil', 'popularity': 1.152, 'profile_path': None, 'credit_id': '57a304b7c3a36829a4000f1c', 'department': 'Production', 'job': 'Executive Producer'}, {'adult': False, 'gender': 0, 'id': 1661256, 'known_for_department': 'Costume & Make-Up', 'name': 'Ravi Indulkar', 'original_name': 'Ravi Indulkar', 'popularity': 1.539, 'profile_path': None, 'credit_id': '57a304cb92514127690001d9', 'department': 'Costume & Make-Up', 'job': 'Makeup Artist'}, {'adult': False, 'gender': 0, 'id': 1661257, 'known_for_department': 'Costume & Make-Up', 'name': 'Pandhari Juker', 'original_name': 'Pandhari Juker', 'popularity': 1.009, 'profile_path': None, 'credit_id': '57a304d6c3a3686c4a003f8b', 'department': 'Costume & Make-Up', 'job': 'Makeup Artist'}, {'adult': False, 'gender': 0, 'id': 1661258, 'known_for_department': 'Costume & Make-Up', 'name': 'Farida Khan', 'original_name': 'Farida Khan', 'popularity': 0.6, 'profile_path': None, 'credit_id': '57a304e19251416b97003cf6', 'department': 'Costume & Make-Up', 'job': 'Hairstylist'}, {'adult': False, 'gender': 2, 'id': 1661259, 'known_for_department': 'Costume & Make-Up', 'name': 'Vinod Rathod', 'original_name': 'Vinod Rathod', 'popularity': 0.6, 'profile_path': None, 'credit_id': '57a304ebc3a368295b000dc9', 'department': 'Costume & Make-Up', 'job': 'Makeup Artist'}, {'adult': False, 'gender': 0, 'id': 1661260, 'known_for_department': 'Production', 'name': 'Balakrishnan Iyer', 'original_name': 'Balakrishnan Iyer', 'popularity': 0.6, 'profile_path': None, 'credit_id': '57a304f69251410a5f000926', 'department': 'Production', 'job': 'Production Manager'}, {'adult': False, 'gender': 0, 'id': 1661261, 'known_for_department': 'Art', 'name': 'Mohammed Kasim', 'original_name': 'Mohammed Kasim', 'popularity': 0.6, 'profile_path': None, 'credit_id': '57a30521c3a3683f9700085c', 'department': 'Art', 'job': 'Assistant Art Director'}, {'adult': False, 'gender': 0, 'id': 1661262, 'known_for_department': 'Sound', 'name': 'Arunkumar Bose', 'original_name': 'Arunkumar Bose', 'popularity': 0.6, 'profile_path': None, 'credit_id': '57a3052b9251410c7d00095c', 'department': 'Sound', 'job': 'Sound Re-Recording Mixer'}, {'adult': False, 'gender': 0, 'id': 1661263, 'known_for_department': 'Costume & Make-Up', 'name': 'Shashikant Shellar', 'original_name': 'Shashikant Shellar', 'popularity': 0.6, 'profile_path': None, 'credit_id': '57a3053b9251410d2c000928', 'department': 'Costume & Make-Up', 'job': 'Costume Design'}, {'adult': False, 'gender': 0, 'id': 2400265, 'known_for_department': 'Sound', 'name': 'Ajay Trivedi', 'original_name': 'Ajay Trivedi', 'popularity': 0.6, 'profile_path': None, 'credit_id': '5d6a2aaf9d8939001200f923', 'department': 'Sound', 'job': 'Playback Singer'}]\n",
      "[{'adult': False, 'gender': 2, 'id': 491, 'known_for_department': 'Sound', 'name': 'John Williams', 'original_name': 'John Williams', 'popularity': 4.468, 'profile_path': '/KFyMqUWeiBdP9tJcZyGWOqnrgK.jpg', 'credit_id': '52fe4242c3a36847f8010303', 'department': 'Sound', 'job': 'Original Music Composer'}, {'adult': False, 'gender': 2, 'id': 488, 'known_for_department': 'Directing', 'name': 'Steven Spielberg', 'original_name': 'Steven Spielberg', 'popularity': 29.337, 'profile_path': '/tZxcg19YQ3e8fJ0pOs7hjlnmmr6.jpg', 'credit_id': '52fe4241c3a36847f801024d', 'department': 'Directing', 'job': 'Director'}, {'adult': False, 'gender': 2, 'id': 488, 'known_for_department': 'Directing', 'name': 'Steven Spielberg', 'original_name': 'Steven Spielberg', 'popularity': 29.337, 'profile_path': '/tZxcg19YQ3e8fJ0pOs7hjlnmmr6.jpg', 'credit_id': '52fe4241c3a36847f801025f', 'department': 'Production', 'job': 'Producer'}, {'adult': False, 'gender': 1, 'id': 489, 'known_for_department': 'Production', 'name': 'Kathleen Kennedy', 'original_name': 'Kathleen Kennedy', 'popularity': 9.837, 'profile_path': '/ndgYlie0PHkyqEiEBGM8SqrPOkr.jpg', 'credit_id': '5f49907ea1a9ba003458c3ea', 'department': 'Production', 'job': 'Executive Producer'}, {'adult': False, 'gender': 2, 'id': 492, 'known_for_department': 'Camera', 'name': 'Janusz Kamiński', 'original_name': 'Janusz Kamiński', 'popularity': 4.848, 'profile_path': '/5yURZbwMmhiXXlvDmRdz4V14Ufs.jpg', 'credit_id': '52fe4241c3a36847f8010271', 'department': 'Camera', 'job': 'Director of Photography'}, {'adult': False, 'gender': 2, 'id': 493, 'known_for_department': 'Editing', 'name': 'Michael Kahn', 'original_name': 'Michael Kahn', 'popularity': 2.626, 'profile_path': '/jb4Y9q1q91VRQJue0VXhU7VcXce.jpg', 'credit_id': '52fe4241c3a36847f8010277', 'department': 'Editing', 'job': 'Editor'}, {'adult': False, 'gender': 2, 'id': 930, 'known_for_department': 'Production', 'name': 'Branko Lustig', 'original_name': 'Branko Lustig', 'popularity': 0.946, 'profile_path': '/yHRAgKCRESvnLN72L32BUwXLHIT.jpg', 'credit_id': '52fe4241c3a36847f8010265', 'department': 'Production', 'job': 'Producer'}, {'adult': False, 'gender': 1, 'id': 1046, 'known_for_department': 'Production', 'name': 'Juliet Taylor', 'original_name': 'Juliet Taylor', 'popularity': 1.4, 'profile_path': '/yZpHkHDJ38MC9ochQcitEA52oFB.jpg', 'credit_id': '536caf27c3a368124a00b30d', 'department': 'Production', 'job': 'Casting'}, {'adult': False, 'gender': 2, 'id': 2260, 'known_for_department': 'Writing', 'name': 'Steven Zaillian', 'original_name': 'Steven Zaillian', 'popularity': 4.774, 'profile_path': '/3V8X2EnjzqdrUagdnjTgKi213AJ.jpg', 'credit_id': '52fe4241c3a36847f8010259', 'department': 'Writing', 'job': 'Screenplay'}, {'adult': False, 'gender': 2, 'id': 2211, 'known_for_department': 'Production', 'name': 'Gerald R. Molen', 'original_name': 'Gerald R. Molen', 'popularity': 5.338, 'profile_path': '/m1C2E9MWClm3ITzxQzUxmE1qphL.jpg', 'credit_id': '52fe4241c3a36847f801026b', 'department': 'Production', 'job': 'Producer'}, {'adult': False, 'gender': 2, 'id': 3563, 'known_for_department': 'Art', 'name': 'Allan Starski', 'original_name': 'Allan Starski', 'popularity': 1.4, 'profile_path': '/eSF9x5rMgzrMFwJkHADqN0VmN6w.jpg', 'credit_id': '536caf41c3a368122000b206', 'department': 'Art', 'job': 'Production Design'}, {'adult': False, 'gender': 0, 'id': 6685, 'known_for_department': 'Writing', 'name': 'Thomas Keneally', 'original_name': 'Thomas Keneally', 'popularity': 0.773, 'profile_path': '/wgwxeimKZhOUDYiVAjixEFLFxlU.jpg', 'credit_id': '52fe4241c3a36847f8010253', 'department': 'Writing', 'job': 'Novel'}, {'adult': False, 'gender': 0, 'id': 6687, 'known_for_department': 'Production', 'name': 'Tova Cypin', 'original_name': 'Tova Cypin', 'popularity': 0.6, 'profile_path': None, 'credit_id': '52fe4241c3a36847f801027d', 'department': 'Production', 'job': 'Casting'}, {'adult': False, 'gender': 1, 'id': 6688, 'known_for_department': 'Costume & Make-Up', 'name': 'Anna B. Sheppard', 'original_name': 'Anna B. Sheppard', 'popularity': 2.414, 'profile_path': '/k3bznaLxtBMltY2A0AvJnNk3IP3.jpg', 'credit_id': '52fe4241c3a36847f8010283', 'department': 'Costume & Make-Up', 'job': 'Costume Design'}, {'adult': False, 'gender': 0, 'id': 6689, 'known_for_department': 'Crew', 'name': 'Bruce Minkus', 'original_name': 'Bruce Minkus', 'popularity': 0.6, 'profile_path': None, 'credit_id': '5ab12df692514111d000dc6f', 'department': 'Crew', 'job': 'Special Effects Coordinator'}, {'adult': False, 'gender': 0, 'id': 6690, 'known_for_department': 'Visual Effects', 'name': 'Jill Brooks', 'original_name': 'Jill Brooks', 'popularity': 1.38, 'profile_path': None, 'credit_id': '52fe4242c3a36847f801028f', 'department': 'Visual Effects', 'job': 'Visual Effects'}, {'adult': False, 'gender': 0, 'id': 6691, 'known_for_department': 'Crew', 'name': 'Krzysztof Kotowski', 'original_name': 'Krzysztof Kotowski', 'popularity': 0.6, 'profile_path': None, 'credit_id': '5448d99f0e0a267483001536', 'department': 'Crew', 'job': 'Stunt Coordinator'}, {'adult': False, 'gender': 2, 'id': 9971, 'known_for_department': 'Sound', 'name': 'Charles L. Campbell', 'original_name': 'Charles L. Campbell', 'popularity': 1.037, 'profile_path': None, 'credit_id': '5448d77ec3a3680fa500155e', 'department': 'Sound', 'job': 'Supervising Sound Editor'}, {'adult': False, 'gender': 1, 'id': 9441, 'known_for_department': 'Sound', 'name': 'Ellen Heuer', 'original_name': 'Ellen Heuer', 'popularity': 1.4, 'profile_path': None, 'credit_id': '5448d7c0c3a3680fb40016cb', 'department': 'Sound', 'job': 'Foley'}, {'adult': False, 'gender': 0, 'id': 17084, 'known_for_department': 'Costume & Make-Up', 'name': 'Waldemar Pokromski', 'original_name': 'Waldemar Pokromski', 'popularity': 2.201, 'profile_path': None, 'credit_id': '5ab12bdac3a36861af00e73d', 'department': 'Costume & Make-Up', 'job': 'Makeup Artist'}, {'adult': False, 'gender': 2, 'id': 18265, 'known_for_department': 'Camera', 'name': 'Mauro Fiore', 'original_name': 'Mauro Fiore', 'popularity': 3.147, 'profile_path': '/5WnSQdjeuvzZ7Kh3onIXwc4zdof.jpg', 'credit_id': '5448d9c5c3a3680faa001583', 'department': 'Lighting', 'job': 'Gaffer'}, {'adult': False, 'gender': 1, 'id': 113090, 'known_for_department': 'Sound', 'name': 'Alicia Stevenson', 'original_name': 'Alicia Stevenson', 'popularity': 10.148, 'profile_path': '/kgYtaWN4VSFh2B0jkHa1GMBOcNU.jpg', 'credit_id': '5448d833c3a3680fa5001581', 'department': 'Sound', 'job': 'Foley'}, {'adult': False, 'gender': 0, 'id': 62583, 'known_for_department': 'Camera', 'name': 'Raymond Stella', 'original_name': 'Raymond Stella', 'popularity': 1.093, 'profile_path': None, 'credit_id': '55a63a0d92514109a4001080', 'department': 'Camera', 'job': 'Camera Operator'}, {'adult': False, 'gender': 0, 'id': 66142, 'known_for_department': 'Sound', 'name': 'Kenneth Wannberg', 'original_name': 'Kenneth Wannberg', 'popularity': 2.029, 'profile_path': None, 'credit_id': '5448dccac3a3680fb4001763', 'department': 'Sound', 'job': 'Music Editor'}, {'adult': False, 'gender': 2, 'id': 166002, 'known_for_department': 'Acting', 'name': 'Itzhak Perlman', 'original_name': 'Itzhak Perlman', 'popularity': 3.173, 'profile_path': '/yELJweqEW6lzEIKlZJNQbEZprD8.jpg', 'credit_id': '5ff3790fe263bb00410db5f5', 'department': 'Sound', 'job': 'Musician'}, {'adult': False, 'gender': 1, 'id': 570136, 'known_for_department': 'Directing', 'name': 'Nada Pinter', 'original_name': 'Nada Pinter', 'popularity': 0.715, 'profile_path': None, 'credit_id': '5ab12e490e0a2676db00da37', 'department': 'Directing', 'job': 'Script Supervisor'}, {'adult': False, 'gender': 1, 'id': 936194, 'known_for_department': 'Costume & Make-Up', 'name': 'Christina Smith', 'original_name': 'Christina Smith', 'popularity': 0.705, 'profile_path': None, 'credit_id': '5ab12c0392514111ca00d6a3', 'department': 'Costume & Make-Up', 'job': 'Makeup Supervisor'}, {'adult': False, 'gender': 0, 'id': 960737, 'known_for_department': 'Art', 'name': 'Ewa Skoczkowska', 'original_name': 'Ewa Skoczkowska', 'popularity': 0.692, 'profile_path': None, 'credit_id': '55a63969c3a3682bba001049', 'department': 'Art', 'job': 'Art Direction'}, {'adult': False, 'gender': 0, 'id': 1031561, 'known_for_department': 'Production', 'name': 'Lucky Englander', 'original_name': 'Lucky Englander', 'popularity': 1.555, 'profile_path': None, 'credit_id': '536caec8c3a368121200ae79', 'department': 'Production', 'job': 'Casting'}, {'adult': False, 'gender': 2, 'id': 1116937, 'known_for_department': 'Sound', 'name': 'John Roesch', 'original_name': 'John Roesch', 'popularity': 3.342, 'profile_path': None, 'credit_id': '5448d7e70e0a267479001553', 'department': 'Sound', 'job': 'Foley'}, {'adult': False, 'gender': 0, 'id': 1312252, 'known_for_department': 'Production', 'name': 'Fritz Fleischhacker', 'original_name': 'Fritz Fleischhacker', 'popularity': 0.6, 'profile_path': None, 'credit_id': '536caedec3a368121200ae7e', 'department': 'Production', 'job': 'Casting'}, {'adult': False, 'gender': 0, 'id': 1317873, 'known_for_department': 'Production', 'name': 'Liat Meiron', 'original_name': 'Liat Meiron', 'popularity': 0.6, 'profile_path': None, 'credit_id': '536caef9c3a36839c10016ad', 'department': 'Production', 'job': 'Casting'}, {'adult': False, 'gender': 0, 'id': 1317874, 'known_for_department': 'Production', 'name': 'Magdalena Szwarcbart', 'original_name': 'Magdalena Szwarcbart', 'popularity': 1.057, 'profile_path': None, 'credit_id': '536caf0cc3a368124a00b308', 'department': 'Production', 'job': 'Casting'}, {'adult': False, 'gender': 0, 'id': 1324023, 'known_for_department': 'Art', 'name': 'Batia Grafka', 'original_name': 'Batia Grafka', 'popularity': 0.6, 'profile_path': None, 'credit_id': '5ab12c7092514111c700dd78', 'department': 'Art', 'job': 'Property Master'}, {'adult': False, 'gender': 2, 'id': 1338976, 'known_for_department': 'Sound', 'name': 'Andy Nelson', 'original_name': 'Andy Nelson', 'popularity': 1.306, 'profile_path': '/rsezSNhDdoKgM99MZYyUX8V35S0.jpg', 'credit_id': '5ab12d7f0e0a2676de00f62f', 'department': 'Sound', 'job': 'Sound Re-Recording Mixer'}, {'adult': False, 'gender': 0, 'id': 1345595, 'known_for_department': 'Sound', 'name': 'Scott Millan', 'original_name': 'Scott Millan', 'popularity': 3.701, 'profile_path': None, 'credit_id': '5ab12d6c0e0a2676ce00e8d6', 'department': 'Sound', 'job': 'Sound Re-Recording Mixer'}, {'adult': False, 'gender': 2, 'id': 1376818, 'known_for_department': 'Sound', 'name': 'Kevin Bartnof', 'original_name': 'Kevin Bartnof', 'popularity': 0.624, 'profile_path': None, 'credit_id': '5448d761c3a3680fc3001396', 'department': 'Sound', 'job': 'Foley'}, {'adult': False, 'gender': 2, 'id': 1376819, 'known_for_department': 'Sound', 'name': 'Louis L. Edemann', 'original_name': 'Louis L. Edemann', 'popularity': 1.387, 'profile_path': None, 'credit_id': '5448d7a7c3a3680fb40016c7', 'department': 'Sound', 'job': 'Supervising Sound Editor'}, {'adult': False, 'gender': 0, 'id': 1376821, 'known_for_department': 'Visual Effects', 'name': 'Steve Price', 'original_name': 'Steve Price', 'popularity': 0.6, 'profile_path': None, 'credit_id': '5448d94d0e0a26748600160e', 'department': 'Visual Effects', 'job': 'Visual Effects Supervisor'}, {'adult': False, 'gender': 0, 'id': 1378228, 'known_for_department': 'Sound', 'name': 'Steve Pederson', 'original_name': 'Steve Pederson', 'popularity': 5.097, 'profile_path': None, 'credit_id': '5ab12d9192514111c700de8d', 'department': 'Sound', 'job': 'Sound Re-Recording Mixer'}, {'adult': False, 'gender': 2, 'id': 1389139, 'known_for_department': 'Camera', 'name': 'David James', 'original_name': 'David James', 'popularity': 1.4, 'profile_path': None, 'credit_id': '55a63a529251410999000fc7', 'department': 'Camera', 'job': 'Still Photographer'}, {'adult': False, 'gender': 2, 'id': 1407016, 'known_for_department': 'Sound', 'name': 'Allen Hartz', 'original_name': 'Allen Hartz', 'popularity': 1.533, 'profile_path': None, 'credit_id': '5ab12d27c3a36861b900f45a', 'department': 'Sound', 'job': 'ADR Editor'}, {'adult': False, 'gender': 1, 'id': 1412188, 'known_for_department': 'Costume & Make-Up', 'name': 'Judith A. Cory', 'original_name': 'Judith A. Cory', 'popularity': 1.824, 'profile_path': None, 'credit_id': '5ab12bc392514111c400d9bb', 'department': 'Costume & Make-Up', 'job': 'Hair Supervisor'}, {'adult': False, 'gender': 1, 'id': 1438569, 'known_for_department': 'Sound', 'name': 'Andrea Horta', 'original_name': 'Andrea Horta', 'popularity': 0.98, 'profile_path': None, 'credit_id': '5ab12d3692514111d000dbcf', 'department': 'Sound', 'job': 'ADR Editor'}, {'adult': False, 'gender': 0, 'id': 1456474, 'known_for_department': 'Sound', 'name': 'Larry Singer', 'original_name': 'Larry Singer', 'popularity': 0.66, 'profile_path': None, 'credit_id': '5ab12d480e0a2676de00f5fc', 'department': 'Sound', 'job': 'ADR Supervisor'}, {'adult': False, 'gender': 0, 'id': 1482890, 'known_for_department': 'Art', 'name': 'Ryszard Melliwa', 'original_name': 'Ryszard Melliwa', 'popularity': 0.6, 'profile_path': None, 'credit_id': '5ab12c9a92514111ca00d721', 'department': 'Art', 'job': 'Set Dresser'}, {'adult': False, 'gender': 0, 'id': 1487476, 'known_for_department': 'Art', 'name': 'Maciej Walczak', 'original_name': 'Maciej Walczak', 'popularity': 0.6, 'profile_path': None, 'credit_id': '55a6398792514109ab001035', 'department': 'Art', 'job': 'Art Direction'}, {'adult': False, 'gender': 0, 'id': 1487477, 'known_for_department': 'Art', 'name': 'Bogdan Kurzyk', 'original_name': 'Bogdan Kurzyk', 'popularity': 0.98, 'profile_path': None, 'credit_id': '55a639a4c3a3682bb4000eda', 'department': 'Art', 'job': 'Construction Coordinator'}, {'adult': False, 'gender': 0, 'id': 1487478, 'known_for_department': 'Art', 'name': 'Waldemar Weiss', 'original_name': 'Waldemar Weiss', 'popularity': 0.6, 'profile_path': None, 'credit_id': '55a639bd92514109ab00103d', 'department': 'Art', 'job': 'Construction Coordinator'}, {'adult': False, 'gender': 0, 'id': 1487479, 'known_for_department': 'Crew', 'name': 'Anne Marie Stein', 'original_name': 'Anne Marie Stein', 'popularity': 0.6, 'profile_path': None, 'credit_id': '55a63a8bc3a3682bb4000eeb', 'department': 'Crew', 'job': 'Unit Publicist'}, {'adult': False, 'gender': 0, 'id': 1610059, 'known_for_department': 'Costume & Make-Up', 'name': 'Alicja Kozlowska', 'original_name': 'Alicja Kozlowska', 'popularity': 0.6, 'profile_path': None, 'credit_id': '5ab12b9192514111ca00d647', 'department': 'Costume & Make-Up', 'job': 'Hairstylist'}, {'adult': False, 'gender': 0, 'id': 1610683, 'known_for_department': 'Crew', 'name': 'Grzegorz Rzepecki', 'original_name': 'Grzegorz Rzepecki', 'popularity': 0.6, 'profile_path': None, 'credit_id': '5ab12c8492514111be00dabd', 'department': 'Art', 'job': 'Property Master'}, {'adult': False, 'gender': 0, 'id': 1648273, 'known_for_department': 'Art', 'name': 'Grzegorz Piątkowski', 'original_name': 'Grzegorz Piątkowski', 'popularity': 0.98, 'profile_path': None, 'credit_id': '5ab12cbbc3a36861a800e276', 'department': 'Art', 'job': 'Set Dresser'}, {'adult': False, 'gender': 0, 'id': 1914538, 'known_for_department': 'Art', 'name': 'César Díez Álava', 'original_name': 'César Díez Álava', 'popularity': 1.115, 'profile_path': None, 'credit_id': '5ab12c5192514111ca00d6e8', 'department': 'Art', 'job': 'Property Master'}, {'adult': False, 'gender': 0, 'id': 2003210, 'known_for_department': 'Costume & Make-Up', 'name': 'Czeslawa Baldo', 'original_name': 'Czeslawa Baldo', 'popularity': 0.6, 'profile_path': None, 'credit_id': '5ab12b8192514111be00d9ca', 'department': 'Costume & Make-Up', 'job': 'Hairstylist'}, {'adult': False, 'gender': 0, 'id': 2003211, 'known_for_department': 'Costume & Make-Up', 'name': 'Iwona Swierzawska', 'original_name': 'Iwona Swierzawska', 'popularity': 0.6, 'profile_path': None, 'credit_id': '5ab12ba1c3a36861a300dd90', 'department': 'Costume & Make-Up', 'job': 'Hairstylist'}, {'adult': False, 'gender': 0, 'id': 2003212, 'known_for_department': 'Costume & Make-Up', 'name': 'Malgorzata Zawadzka-Lewik', 'original_name': 'Malgorzata Zawadzka-Lewik', 'popularity': 0.6, 'profile_path': None, 'credit_id': '5ab12bb1c3a36861af00e714', 'department': 'Costume & Make-Up', 'job': 'Hairstylist'}, {'adult': False, 'gender': 0, 'id': 2003223, 'known_for_department': 'Art', 'name': 'Ewa Tarnowska', 'original_name': 'Ewa Tarnowska', 'popularity': 0.6, 'profile_path': None, 'credit_id': '5ab12ccf0e0a2676ce00e841', 'department': 'Art', 'job': 'Set Dresser'}, {'adult': False, 'gender': 0, 'id': 2923122, 'known_for_department': 'Acting', 'name': 'Boston Symphony Orchestra', 'original_name': 'Boston Symphony Orchestra', 'popularity': 0.6, 'profile_path': None, 'credit_id': '5ff3791b1a934f003f140893', 'department': 'Sound', 'job': 'Musician'}]\n"
     ]
    }
   ],
   "source": [
    "print(*movies.Crew[:5], sep=\"\\n\")"
   ]
  },
  {
   "cell_type": "code",
   "execution_count": 8,
   "metadata": {},
   "outputs": [
    {
     "data": {
      "text/plain": [
       "Index(['id', 'title', 'overview', 'Genres', 'Keywords', 'Cast', 'Crew'], dtype='object')"
      ]
     },
     "execution_count": 8,
     "metadata": {},
     "output_type": "execute_result"
    }
   ],
   "source": [
    "# id\n",
    "# title\n",
    "# overview\n",
    "# genres -> Genres\n",
    "# keywords -> Keywords\n",
    "# cast -> Cast\n",
    "# crew -> Crew\n",
    "\n",
    "movies = movies.loc[:, (\"Movie_id\", \"title_x\", \"overview\", \"Genres\", \"Keywords\", \"Cast\", \"Crew\")]\n",
    "movies.rename(columns={'Movie_id': 'id', 'title_x': 'title'}, inplace=True)\n",
    "movies.columns"
   ]
  },
  {
   "cell_type": "markdown",
   "metadata": {},
   "source": [
    "2. Feature cleaning"
   ]
  },
  {
   "cell_type": "code",
   "execution_count": 9,
   "metadata": {},
   "outputs": [],
   "source": [
    "movies.dropna(inplace=True)"
   ]
  },
  {
   "cell_type": "markdown",
   "metadata": {},
   "source": [
    "3. Checking for Duplicate values"
   ]
  },
  {
   "cell_type": "code",
   "execution_count": 10,
   "metadata": {},
   "outputs": [
    {
     "data": {
      "text/plain": [
       "0"
      ]
     },
     "execution_count": 10,
     "metadata": {},
     "output_type": "execute_result"
    }
   ],
   "source": [
    "movies.duplicated().sum()"
   ]
  },
  {
   "cell_type": "markdown",
   "metadata": {},
   "source": [
    "4. Applying function on features to convert them to lists"
   ]
  },
  {
   "cell_type": "code",
   "execution_count": 11,
   "metadata": {},
   "outputs": [],
   "source": [
    "import ast # Abstract Syntax Tree\n",
    "\n",
    "\n",
    "def convert_to_list(column: str) -> list:\n",
    "    return [item['name'] for item in ast.literal_eval(column)]"
   ]
  },
  {
   "cell_type": "code",
   "execution_count": 12,
   "metadata": {},
   "outputs": [],
   "source": [
    "movies['Genres'] = movies['Genres'].apply(convert_to_list)"
   ]
  },
  {
   "cell_type": "code",
   "execution_count": 13,
   "metadata": {},
   "outputs": [],
   "source": [
    "movies['Keywords'] = movies['Keywords'].apply(convert_to_list)"
   ]
  },
  {
   "cell_type": "code",
   "execution_count": 14,
   "metadata": {},
   "outputs": [],
   "source": [
    "movies['Cast'] = movies['Cast'].apply(lambda casts: convert_to_list(casts)[: 3])"
   ]
  },
  {
   "cell_type": "code",
   "execution_count": 15,
   "metadata": {},
   "outputs": [],
   "source": [
    "movies['Crew'] = movies['Crew'].apply(lambda crews: [crew['name'] for crew in ast.literal_eval(crews) if crew['job'] == 'Director'])"
   ]
  },
  {
   "cell_type": "code",
   "execution_count": 16,
   "metadata": {},
   "outputs": [],
   "source": [
    "movies['overview'] = movies['overview'].apply(lambda text: text.split())"
   ]
  },
  {
   "cell_type": "code",
   "execution_count": 17,
   "metadata": {},
   "outputs": [],
   "source": [
    "def concatenate_words(strings: list[str]) -> list[str]:\n",
    "    return [string.replace(\" \", \"\") for string in strings]\n"
   ]
  },
  {
   "cell_type": "code",
   "execution_count": 18,
   "metadata": {},
   "outputs": [],
   "source": [
    "movies['Genres'] = movies['Genres'].apply(concatenate_words)\n",
    "movies['Keywords'] = movies['Keywords'].apply(concatenate_words)\n",
    "movies['Cast'] = movies['Cast'].apply(concatenate_words)\n",
    "movies['Crew'] = movies['Crew'].apply(concatenate_words)"
   ]
  },
  {
   "cell_type": "markdown",
   "metadata": {},
   "source": [
    "5. New Feature Creation"
   ]
  },
  {
   "cell_type": "code",
   "execution_count": 19,
   "metadata": {},
   "outputs": [],
   "source": [
    "# id\n",
    "# title\n",
    "# overview\n",
    "# genres -> Genres\n",
    "# keywords -> Keywords\n",
    "# cast -> Cast\n",
    "# crew -> Crew\n",
    "\n",
    "movies['tags'] = movies['overview'] + movies['Genres'] + movies['Keywords'] + movies['Cast'] + movies['Crew']"
   ]
  },
  {
   "cell_type": "code",
   "execution_count": 20,
   "metadata": {},
   "outputs": [],
   "source": [
    "new_df = pd.DataFrame(movies[['id', 'title', 'tags']])"
   ]
  },
  {
   "cell_type": "code",
   "execution_count": 21,
   "metadata": {},
   "outputs": [
    {
     "name": "stdout",
     "output_type": "stream",
     "text": [
      "          id                          title  \\\n",
      "0        238                  The Godfather   \n",
      "1        278       The Shawshank Redemption   \n",
      "2        240          The Godfather Part II   \n",
      "3      19404    Dilwale Dulhania Le Jayenge   \n",
      "4        424               Schindler's List   \n",
      "...      ...                            ...   \n",
      "9975  384737                 Precious Cargo   \n",
      "9976  282813                    The Pyramid   \n",
      "9977  134375  Home Alone: The Holiday Heist   \n",
      "9978   10477                         Driven   \n",
      "9979  243688                    Poltergeist   \n",
      "\n",
      "                                                   tags  \n",
      "0     [Spanning, the, years, 1945, to, 1955,, a, chr...  \n",
      "1     [Framed, in, the, 1940s, for, the, double, mur...  \n",
      "2     [In, the, continuing, saga, of, the, Corleone,...  \n",
      "3     [Raj, is, a, rich,, carefree,, happy-go-lucky,...  \n",
      "4     [The, true, story, of, how, businessman, Oskar...  \n",
      "...                                                 ...  \n",
      "9975  [After, a, botched, heist,, Eddie, a, murderou...  \n",
      "9976  [An, archaeological, team, attempt, to, unlock...  \n",
      "9977  [8-year-old, Finn, is, terrified, to, learn, h...  \n",
      "9978  [Talented, rookie, race-car, driver, Jimmy, Bl...  \n",
      "9979  [A, family's, suburban, home, is, invaded, by,...  \n",
      "\n",
      "[9974 rows x 3 columns]\n"
     ]
    }
   ],
   "source": [
    "print(new_df)"
   ]
  },
  {
   "cell_type": "code",
   "execution_count": 22,
   "metadata": {},
   "outputs": [],
   "source": [
    "new_df['tags'] = new_df['tags'].apply(lambda lst: ' '.join(map(str.lower, lst)))"
   ]
  },
  {
   "cell_type": "markdown",
   "metadata": {},
   "source": [
    "6. Apply stemming on features"
   ]
  },
  {
   "cell_type": "code",
   "execution_count": 23,
   "metadata": {},
   "outputs": [],
   "source": [
    "from nltk.stem.porter import PorterStemmer\n",
    "\n",
    "ps = PorterStemmer()"
   ]
  },
  {
   "cell_type": "code",
   "execution_count": 24,
   "metadata": {},
   "outputs": [],
   "source": [
    "# with stemming\n",
    "new_df['tags'] = new_df['tags'].apply(lambda tags: ' '.join(ps.stem(tag) for tag in tags.split()))"
   ]
  },
  {
   "cell_type": "code",
   "execution_count": 25,
   "metadata": {},
   "outputs": [
    {
     "name": "stdout",
     "output_type": "stream",
     "text": [
      "after a teenag ha a terrifi vision of him and hi friend die in a plane crash, he prevent the accid onli to have death hunt them down, one by one. horror airport omen premonit airplaneaccid corps death near-deathexperi cheatingdeath devonsawa alilart kerrsmith jameswong\n",
      "when kimberli ha a violent premonit of a highway pileup she block the freeway, keep a few other meant to die, safe...or are they? the survivor mysteri start die and it' up to kimberli to stop it befor she' next. horror mysteri ambul premonit hospit a.j.cook alilart michaelland davidr.elli\n"
     ]
    }
   ],
   "source": [
    "new_df.head()\n",
    "print(\n",
    "    *new_df[new_df['title']=='Final Destination']['tags']\n",
    ")\n",
    "print(\n",
    "    *new_df[new_df['title']=='Final Destination 2']['tags']\n",
    ")"
   ]
  },
  {
   "cell_type": "code",
   "execution_count": 69,
   "metadata": {},
   "outputs": [],
   "source": [
    "from sklearn.feature_extraction.text import CountVectorizer\n",
    "\n",
    "\n",
    "cv = CountVectorizer(max_features=10000, stop_words='english')"
   ]
  },
  {
   "cell_type": "code",
   "execution_count": 70,
   "metadata": {},
   "outputs": [],
   "source": [
    "vectors = cv.fit_transform(new_df['tags']).toarray()"
   ]
  },
  {
   "cell_type": "code",
   "execution_count": 71,
   "metadata": {},
   "outputs": [
    {
     "data": {
      "text/plain": [
       "array(['000', '007', '10', '100', '11', '11thcenturi', '12',\n",
       "       '12thcenturi', '13', '13thcenturi', '14', '14th', '14thcenturi',\n",
       "       '15', '150', '15th', '15thcenturi', '16', '16th', '16thcenturi',\n",
       "       '17', '17th', '17thcenturi', '18', '1890', '18th', '18thcenturi',\n",
       "       '19', '1900', '1910', '1920', '1920s', '1930', '1930s', '1936',\n",
       "       '1937', '1940', '1941', '1942', '1943', '1944', '1945', '1947',\n",
       "       '1950', '1950s', '1955', '1957', '1958', '1959', '1960', '1960s',\n",
       "       '1962', '1963', '1964', '1965', '1966', '1967', '1968', '1969',\n",
       "       '1970', '1970s', '1971', '1972', '1973', '1974', '1976', '1977',\n",
       "       '1978', '1979', '1980', '1980s', '1981', '1982', '1984', '1985',\n",
       "       '1986', '1987', '1988', '1990', '1990s', '1991', '1992', '1995',\n",
       "       '1996', '1999', '19th', '19thcenturi', '1stcenturi', '20', '200',\n",
       "       '2000', '2001', '2006', '2008', '2009', '2010', '2011', '2013',\n",
       "       '2015', '2020', '2030', '2040', '2050', '20th', '21', '21st', '22',\n",
       "       '22nd', '23', '24', '25', '26', '27', '28', '29', '30', '300',\n",
       "       '35', '39', '3d', '40', '400', '45', '47', '48', '50', '500', '60',\n",
       "       '70', '80', '90', 'aamirkhan', 'aaron', 'aaroneckhart',\n",
       "       'aaronpaul', 'aarontaylor', 'abandon', 'abandonedhous', 'abbi',\n",
       "       'abbiecornish', 'abduct', 'abid', 'abigailbreslin', 'abil',\n",
       "       'abilities', 'abl', 'aboard', 'aborigin', 'abort', 'abov',\n",
       "       'abraham', 'abram', 'abroad', 'abruptli', 'absenc', 'absence',\n",
       "       'absent', 'absolut', 'absorb', 'absurd', 'absurdhumor', 'abus',\n",
       "       'abusivefath', 'abusivehusband', 'academ', 'academi', 'academy',\n",
       "       'accept', 'access', 'accid', 'accident', 'accidentaldeath',\n",
       "       'acclaim', 'accompani', 'accomplic', 'accomplish', 'accord',\n",
       "       'account', 'accus', 'ace', 'achiev', 'acid', 'acquaint', 'acquir',\n",
       "       'acr', 'act', 'action', 'actionhero', 'actions', 'activ',\n",
       "       'activist', 'activities', 'activity', 'actor', 'actress', 'actual',\n",
       "       'ad', 'ada', 'adam', 'adamdriv', 'adammckay', 'adamsandl',\n",
       "       'adamscott', 'adamshankman', 'adamwingard', 'adapt', 'add',\n",
       "       'addict', 'addiction', 'addison', 'addit', 'adjust', 'admir',\n",
       "       'admit', 'adolesc', 'adolf', 'adolfhitl', 'adopt', 'adoptivefath',\n",
       "       'ador', 'adrianlyn', 'adrienbrodi', 'adrift', 'adult', 'adultanim',\n",
       "       'adulter', 'adulteri', 'adulthood', 'adults', 'advanc', 'advantag',\n",
       "       'advantage', 'adventur', 'adventure', 'adventures', 'adversari',\n",
       "       'advertis', 'advertisingexecut', 'advic', 'advice', 'advis',\n",
       "       'adèlehaenel', 'affair', 'affairs', 'affect', 'affection',\n",
       "       'afflict', 'affluent', 'afford', 'afghanistan', 'afghanistanwar',\n",
       "       'afoul', 'afraid', 'africa', 'african', 'africanamerican',\n",
       "       'africanamericanhistori', 'aftercreditssting', 'afterlif',\n",
       "       'afterlife', 'aftermath', 'afternoon', 'ag', 'age', 'aged',\n",
       "       'agediffer', 'agenc', 'agency', 'agenda', 'agent', 'agents',\n",
       "       'aggress', 'ago', 'agoraphobia', 'agre', 'ah', 'ahead', 'aid',\n",
       "       'ail', 'aim', 'aimless', 'air', 'airborn', 'aircraft', 'aires',\n",
       "       'airforc', 'airlin', 'airplan', 'airplanecrash', 'airplanehijack',\n",
       "       'airport', 'aka', 'akirakurosawa', 'al', 'alabama', 'aladdin',\n",
       "       'alain', 'alainchabat', 'alaindelon', 'alan', 'alanarkin', 'alanj',\n",
       "       'alanpark', 'alanrickman', 'alarm', 'alaska', 'alaskan', 'albert',\n",
       "       'albertbrook', 'albertdupontel', 'albertfinney', 'alberto',\n",
       "       'album', 'alcatrazprison', 'alchemi', 'alchemist', 'alcohol',\n",
       "       'alcoholabus', 'aldo', 'aldobaglio', 'alec', 'alecbaldwin',\n",
       "       'alejandroamenábar', 'alejandrogonzáleziñárritu', 'alessandro',\n",
       "       'alessandrogassmann', 'alessandrogenovesi', 'alessandronivola',\n",
       "       'alessandrosiani', 'alex', 'alexa', 'alexand', 'alexanderpayn',\n",
       "       'alexanderskarsgård', 'alexandradaddario', 'alexandreaja',\n",
       "       'alexandreasti', 'alexapenavega', 'alexkendrick', 'alexpettyf',\n",
       "       'alfonsocuarón', 'alfredhitchcock', 'alfredmolina', 'algeria',\n",
       "       'algerian', 'ali', 'alibi', 'alic', 'alice', 'alicebraga',\n",
       "       'aliceev', 'alicekrig', 'aliciasilverston', 'aliciavikand',\n",
       "       'alien', 'alienabduct', 'alieninfect', 'alieninvas', 'alienlife',\n",
       "       'alienmonst', 'alienplanet', 'aliens', 'alik', 'alike', 'alilart',\n",
       "       'alisonbri', 'aliv', 'alive', 'allan', 'alleg', 'allegedli',\n",
       "       'allegi', 'allegori', 'allen', 'allenhugh', 'allgirlsschool',\n",
       "       'alli', 'allianc', 'allies', 'allig', 'allison', 'allow', 'allur',\n",
       "       'ally', 'alma', 'alon', 'alongsid', 'aloof', 'alp', 'alpacino',\n",
       "       'alpha', 'alps', 'alpsmountain', 'alreadi', 'alt', 'altar',\n",
       "       'alter', 'alterego', 'altern', 'alternatedimens',\n",
       "       'alternatehistori', 'alternater', 'alternatetimelin', 'alvin',\n",
       "       'alway', 'alzheimer', 'amaia', 'amanda', 'amandapeet',\n",
       "       'amandaseyfri', 'amateur', 'amateurdetect', 'amaz', 'amazon',\n",
       "       'amazonrainforest', 'ambassador', 'amber', 'amberheard', 'ambit',\n",
       "       'ambiti', 'ambition', 'ambraangiolini', 'ambul', 'ambush',\n",
       "       'america', 'american', 'americanabroad', 'americancivilwar',\n",
       "       'americandream', 'americanfootbal', 'ami', 'amid', 'amidst',\n",
       "       'amnesia', 'amor', 'amsterdam', 'amus', 'amusementpark', 'amy',\n",
       "       'amyadam', 'amyheckerl', 'amypoehl', 'amyryan', 'amysmart', 'ana',\n",
       "       'anadearma', 'analyst', 'anarchiccomedi', 'anarchist', 'ancestor',\n",
       "       'anchor', 'ancient', 'ancientegypt', 'ancientgreec', 'ancientrom',\n",
       "       'ancientworld', 'anderson', 'andi', 'andiemacdowel', 'andrea',\n",
       "       'andreariseborough', 'andreitarkovski', 'andrew', 'andrewdavi',\n",
       "       'andrewflem', 'andrewgarfield', 'andrewniccol', 'android', 'andré',\n",
       "       'andrédussolli', 'andrégrondin', 'andy', 'andyfickman',\n",
       "       'andygarcía', 'andylau', 'andysamberg', 'andyserki', 'andytenn',\n",
       "       'angel', 'angela', 'angelabassett', 'angeles', 'angelinajoli',\n",
       "       'angelo', 'angels', 'anger', 'angle', 'angri', 'ani', 'anim',\n",
       "       'animal', 'animalattack', 'animalhorror', 'animals',\n",
       "       'animatedscen', 'anjelicahuston', 'ann', 'anna', 'annabel',\n",
       "       'annabellew'], dtype=object)"
      ]
     },
     "execution_count": 71,
     "metadata": {},
     "output_type": "execute_result"
    }
   ],
   "source": [
    "cv.get_feature_names_out()[:500]"
   ]
  },
  {
   "cell_type": "markdown",
   "metadata": {},
   "source": [
    "7. Calculating using cosine similarity instead of Euclidean Distance"
   ]
  },
  {
   "cell_type": "code",
   "execution_count": 67,
   "metadata": {},
   "outputs": [],
   "source": [
    "from sklearn.metrics.pairwise import cosine_similarity"
   ]
  },
  {
   "cell_type": "code",
   "execution_count": 156,
   "metadata": {},
   "outputs": [
    {
     "data": {
      "text/plain": [
       "array([[1.        , 0.2257106 , 0.40660449, ..., 0.12293063, 0.12068855,\n",
       "        0.07813984],\n",
       "       [0.2257106 , 1.        , 0.06405126, ..., 0.18073922, 0.22814073,\n",
       "        0.0246183 ],\n",
       "       [0.40660449, 0.06405126, 1.        , ..., 0.06201737, 0.        ,\n",
       "        0.05913124],\n",
       "       ...,\n",
       "       [0.12293063, 0.18073922, 0.06201737, ..., 1.        , 0.18408026,\n",
       "        0.09534626],\n",
       "       [0.12068855, 0.22814073, 0.        , ..., 0.18408026, 1.        ,\n",
       "        0.        ],\n",
       "       [0.07813984, 0.0246183 , 0.05913124, ..., 0.09534626, 0.        ,\n",
       "        1.        ]])"
      ]
     },
     "execution_count": 156,
     "metadata": {},
     "output_type": "execute_result"
    }
   ],
   "source": [
    "similarity = cosine_similarity(vectors)\n",
    "similarity"
   ]
  },
  {
   "cell_type": "code",
   "execution_count": 161,
   "metadata": {},
   "outputs": [],
   "source": [
    "def recommend(movie):\n",
    "    movie_index = new_df[new_df['title'] == movie].index[0]\n",
    "    distances = similarity[movie_index]\n",
    "    movies = enumerate(distances)\n",
    "    recommended_movies = sorted(movies, reverse=True, key=lambda m: m[1])\n",
    "    top_5_recommendations = recommended_movies[1:6]\n",
    "    return [new_df.iloc[index].title for index, _ in top_5_recommendations]"
   ]
  },
  {
   "cell_type": "markdown",
   "metadata": {},
   "source": [
    "8. Testing on a data"
   ]
  },
  {
   "cell_type": "code",
   "execution_count": 163,
   "metadata": {},
   "outputs": [
    {
     "data": {
      "text/plain": [
       "['Mechanic: Resurrection',\n",
       " 'Last Man Down',\n",
       " 'Grand Isle',\n",
       " \"Tom Clancy's Without Remorse\",\n",
       " 'Point Blank']"
      ]
     },
     "execution_count": 163,
     "metadata": {},
     "output_type": "execute_result"
    }
   ],
   "source": [
    "recommend('Final Destination 3')"
   ]
  },
  {
   "cell_type": "code",
   "execution_count": 159,
   "metadata": {},
   "outputs": [
    {
     "data": {
      "text/plain": [
       "[0.2745525920120826,\n",
       " 0.27534439587696735,\n",
       " 0.27577641592229635,\n",
       " 0.2790499103368722,\n",
       " 0.2857383834063721,\n",
       " 0.2894736842105264,\n",
       " 0.31171460007967866,\n",
       " 0.32444284226152503,\n",
       " 1.0]"
      ]
     },
     "execution_count": 159,
     "metadata": {},
     "output_type": "execute_result"
    }
   ],
   "source": [
    "sorted(similarity[7660])[-9:]"
   ]
  },
  {
   "cell_type": "markdown",
   "metadata": {},
   "source": [
    "9. Exporting new Datasets\n"
   ]
  },
  {
   "cell_type": "code",
   "execution_count": 33,
   "metadata": {},
   "outputs": [],
   "source": [
    "import pickle\n",
    "\n",
    "\n",
    "pickle.dump(new_df, open('data/movies.pkl', 'wb'))\n",
    "pickle.dump(similarity, open('data/similarity.pkl', 'wb'))"
   ]
  }
 ],
 "metadata": {
  "kernelspec": {
   "display_name": "Python 3 (ipykernel)",
   "language": "python",
   "name": "python3"
  },
  "language_info": {
   "codemirror_mode": {
    "name": "ipython",
    "version": 3
   },
   "file_extension": ".py",
   "mimetype": "text/x-python",
   "name": "python",
   "nbconvert_exporter": "python",
   "pygments_lexer": "ipython3",
   "version": "3.11.2"
  },
  "vscode": {
   "interpreter": {
    "hash": "7cc880fb414a6190fbce021e54b9550a41e00b0ed8e95a947d98634e734d910a"
   }
  }
 },
 "nbformat": 4,
 "nbformat_minor": 2
}
